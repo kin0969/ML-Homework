{
  "nbformat": 4,
  "nbformat_minor": 0,
  "metadata": {
    "colab": {
      "name": "Twitter RNN.ipynb",
      "provenance": [],
      "collapsed_sections": [],
      "toc_visible": true,
      "machine_shape": "hm",
      "authorship_tag": "ABX9TyOPXsRCLaXiILqM4Oc52P7S",
      "include_colab_link": true
    },
    "kernelspec": {
      "name": "python3",
      "display_name": "Python 3"
    },
    "accelerator": "GPU"
  },
  "cells": [
    {
      "cell_type": "markdown",
      "metadata": {
        "id": "view-in-github",
        "colab_type": "text"
      },
      "source": [
        "<a href=\"https://colab.research.google.com/github/kin0969/ML-Homework/blob/master/Twitter_RNN.ipynb\" target=\"_parent\"><img src=\"https://colab.research.google.com/assets/colab-badge.svg\" alt=\"Open In Colab\"/></a>"
      ]
    },
    {
      "cell_type": "markdown",
      "metadata": {
        "id": "5nrGZ2gVCerY",
        "colab_type": "text"
      },
      "source": [
        "###General Path Config"
      ]
    },
    {
      "cell_type": "code",
      "metadata": {
        "id": "8Gyulf3c5BFG",
        "colab_type": "code",
        "outputId": "5678ed12-95da-4c28-a337-f3c688b68a29",
        "colab": {
          "base_uri": "https://localhost:8080/",
          "height": 55
        }
      },
      "source": [
        "# Mount Google Drive for read and write\n",
        "from google.colab import drive\n",
        "drive.mount('/content/gdrive')\n",
        "training_label=\"/content/gdrive/My Drive/Colab Notebooks/ML Homework/RNN 2020/Raw Data/\"+\"training_label.txt\"\n",
        "training_nolabel=\"/content/gdrive/My Drive/Colab Notebooks/ML Homework/RNN 2020/Raw Data/\"+\"training_nolabel.txt\"\n",
        "testing_data=\"/content/gdrive/My Drive/Colab Notebooks/ML Homework/RNN 2020/Raw Data/\"+\"testing_data.txt\"\n",
        "w2v_model='w2v_hw_label_text.model'  \n",
        "W2v_dimension=250\n",
        "\n",
        "predict=\"/content/gdrive/My Drive/Colab Notebooks/ML Homework/RNN 2020/Result/\"+\"predict.csv\"\n",
        "general_result_path=\"/content/gdrive/My Drive/Colab Notebooks/ML Homework/RNN 2020/Result/\""
      ],
      "execution_count": 21,
      "outputs": [
        {
          "output_type": "stream",
          "text": [
            "Drive already mounted at /content/gdrive; to attempt to forcibly remount, call drive.mount(\"/content/gdrive\", force_remount=True).\n"
          ],
          "name": "stdout"
        }
      ]
    },
    {
      "cell_type": "markdown",
      "metadata": {
        "id": "r5Aa_EYzEOYs",
        "colab_type": "text"
      },
      "source": [
        "###Utils"
      ]
    },
    {
      "cell_type": "code",
      "metadata": {
        "id": "CW4I2MRMEZGh",
        "colab_type": "code",
        "colab": {}
      },
      "source": [
        "# Utils.py\n",
        "# General library\n",
        " \n",
        " import torch\n",
        " import numpy as np\n",
        " import pandas as pd\n",
        " import torch.optim as optim\n",
        " import torch.nn.functional as F\n",
        "\n",
        " def load_training_data(path,with_label):   \n",
        "   # 把 training 時需要的 data 讀進來\n",
        "   # 如果是 'training_label.txt'，需要讀取 label，如果是 'training_nolabel.txt'，不需要讀取 label\n",
        "   if with_label=='Y':\n",
        "     with open(path,'r') as f:\n",
        "       lines=f.readlines()       \n",
        "       lines=[line.strip('\\n').split(' ') for line in lines]\n",
        "     \n",
        "     x= [line[2:] for line in lines]\n",
        "     y= [line[0] for line in lines] \n",
        "     return x,y\n",
        "   else:\n",
        "     with open(path, 'r') as f:\n",
        "            lines = f.readlines()\n",
        "            x = [line.strip('\\n').split(' ') for line in lines]\n",
        "     return x\n",
        "\n",
        "\n",
        "def load_testing_data(path):\n",
        "    # 把 testing 時需要的 data 讀進來\n",
        "    with open(path, 'r') as f:\n",
        "        lines = f.readlines()\n",
        "        \n",
        "        # 先不要header, 再去分行符號，再用逗號分隔\n",
        "        lines_staging=[line.strip('\\n').split(\",\") for line in lines[1:]]\n",
        "        # 再把整句Raw句子拿出來 \n",
        "        lines_staging= [line[1:] for line in lines_staging]\n",
        "        # 再使用句子中的空格split出得出每個字，line係object冇split, 所以加D野上去變成String\n",
        "        lines_staging= [\"\".join(line).split(' ') for line in lines_staging]    \n",
        "\n",
        "    return lines_staging\n",
        "\n",
        "def acc_evaluation(outputs, labels):\n",
        "  outputs[outputs>=0.5]=1\n",
        "  outputs[outputs<0.5]=0\n",
        "  correct=torch.sum(torch.eq(outputs,labels)).item()\n",
        "  return correct\n",
        "  \n",
        "\n",
        "\n"
      ],
      "execution_count": 0,
      "outputs": []
    },
    {
      "cell_type": "markdown",
      "metadata": {
        "id": "56J-MekNOe4w",
        "colab_type": "text"
      },
      "source": [
        "### Train Word to Vector"
      ]
    },
    {
      "cell_type": "code",
      "metadata": {
        "id": "aNuxYMqlOiyR",
        "colab_type": "code",
        "colab": {}
      },
      "source": [
        "# 這個 block 是用來訓練 word to vector 的 word embedding\n",
        "# 注意！這個 block 在訓練 word to vector 時是用 cpu，可能要花到 10 分鐘以上\n",
        "# 只是把所有字轉化成Vector, 並寫進model\n",
        "\n",
        "import os\n",
        "import numpy as np\n",
        "import pandas as pd\n",
        "import argparse\n",
        "from gensim.models import word2vec\n",
        "\n",
        "def train_word2vec(x):\n",
        "  model=word2vec.Word2Vec(x,size=W2v_dimension,window=5,min_count=5,workers=12,iter=10,sg=1)\n",
        "  return model\n",
        "\n",
        "\n",
        "if __name__!=\"__main__\":\n",
        "  print (\"Loading training data for training word2vec\")\n",
        "  train_x,y=load_training_data(training_label,'Y')\n",
        "  train_x_no_label=load_training_data(training_nolabel,'N')\n",
        "\n",
        "  print(\"Loading testing data for training word2vec\")\n",
        "  test_x=load_testing_data(testing_data)\n",
        "\n",
        "  model =train_word2vec(train_x + test_x)\n",
        "\n",
        "  print (\"Saving models\")\n",
        "  model.save(general_result_path+w2v_model)"
      ],
      "execution_count": 0,
      "outputs": []
    },
    {
      "cell_type": "markdown",
      "metadata": {
        "id": "bWF4FSRc7hki",
        "colab_type": "text"
      },
      "source": [
        "###Building an usable dictionary mapping"
      ]
    },
    {
      "cell_type": "code",
      "metadata": {
        "id": "OvYHxknU7jjF",
        "colab_type": "code",
        "colab": {}
      },
      "source": [
        "# 繼續上個Block的工作，使用已build好的embedding 製偏 1個可用作文字learning 既機制\n",
        "# 以下3個製作成品皆包含 model 全部的words\n",
        "# 製作一個 word2idx 的 dictionary -> self.word2index['he'] = 1\n",
        "# 製作一個 idx2word 的 list       -> self.index2word[1] = 'he'\n",
        "# 製作一個 word2vector 的 list    -> self.embedding_matrix[1]='he' Vector= [1,2,5,7,8.....]\n",
        "\n",
        "\n",
        "from torch import nn\n",
        "from gensim.models import Word2Vec\n",
        "\n",
        "class Dict_mapping():\n",
        "  # __init__ is contractor, self是指明使用class的object\n",
        "  def __init__(self,sentences,sen_len,w2v_path=general_result_path+w2v_model):\n",
        "    self.w2v_path=w2v_path\n",
        "    self.sentences=sentences   # 所有句子，所有text\n",
        "    self.sen_len=sen_len       # 統一設定每一句子的長度\n",
        "\n",
        "    self.word2idx_dict={}\n",
        "    self.idx2word=[]\n",
        "    self.embedding_matrix=[]\n",
        "\n",
        "  def get_w2v_model(self):\n",
        "    # 把之前訓練好的 word to vec 模型讀進來\n",
        "    self.embedding=Word2Vec.load(self.w2v_path)\n",
        "    self.embedding_dim=self.embedding.vector_size\n",
        "\n",
        "\n",
        "  def add_embedding(self,word):\n",
        "    #此設計只補上2種word， 就是 \"<PAD>\" 或 \"<UNK>\"\n",
        "    #<PAD> for 句子不夠長，補字員以統一長度；<UNK> for 未見過既字\n",
        "    #2個新字都隨機生成embedding vector, 再加至embedding_matrix中\n",
        "    vector=torch.empty(1,self.embedding_dim)\n",
        "    torch.nn.init.uniform_(vector)   # uniform->很平均的分佈?\n",
        "    self.word2idx_dict[word]=len(self.word2idx_dict)\n",
        "    self.idx2word.append(word)       #1 維可以append\n",
        "    self.embedding_matrix=torch.cat([self.embedding_matrix,vector],0)    #Torch就要concat了\n",
        "    \n",
        "  def make_dict_embedding(self,load=True):\n",
        "    #真正建構3款dict同vector\n",
        "    print(\"Get pre-train embedding ...\")\n",
        "    if load:\n",
        "      self.get_w2v_model()\n",
        "    else:\n",
        "      raise NotImplementedError\n",
        "   \n",
        "    #把gensim model中的每個字都拿出來\n",
        "    for i,word in enumerate (self.embedding.wv.vocab):      \n",
        "      print ('get words#{}:{}'.format(i+1,word),end='\\r')      \n",
        "      self.word2idx_dict[word] = len(self.word2idx_dict)\n",
        "      self.idx2word.append(word)\n",
        "      self.embedding_matrix.append(self.embedding[word])\n",
        "\n",
        "    print('')\n",
        "    self.embedding_matrix = torch.tensor(self.embedding_matrix)\n",
        "    # 將 \"<PAD>\" 跟 \"<UNK>\" 加進 embedding 裡面\n",
        "    self.add_embedding(\"<PAD>\")\n",
        "    self.add_embedding(\"<UNK>\")\n",
        "    print (\"Total words in embedding matrix: {}\".format(len(self.embedding_matrix)))\n",
        "    return self.embedding_matrix\n",
        "\n",
        "   \n",
        "  def adjust_sentence_length(self,sentence):     \n",
        "    # 此時的sentence已是index\n",
        "    # 太長的地方縮短\n",
        "    if len(sentence)>self.sen_len:\n",
        "      sentence=sentence[:self.sen_len]\n",
        "    else:\n",
        "    # 統一pad 每一句子的字數, 不足的地方, 加\"<PAD>\"     \n",
        "      pad_len=self.sen_len-len(sentence)\n",
        "      for _ in range(pad_len):\n",
        "        sentence.append(self.word2idx_dict[\"<PAD>\"])\n",
        "    \n",
        "    # 若以下條件不成立就馬上報錯\n",
        "    assert len(sentence)==self.sen_len\n",
        "    return sentence\n",
        "\n",
        "   \n",
        "  def sentences_word2idx(self):     \n",
        "    # 把所有句子中的字變成index\n",
        "    # 把input x變成 LongTensor, 準備作learning\n",
        "    sentence_idx_list=[]\n",
        "    for i,sen in enumerate(self.sentences):\n",
        "      sentence_idx=[]\n",
        "      \n",
        "      for word in sen:\n",
        "        if (word in self.word2idx_dict.keys()):\n",
        "          sentence_idx.append(self.word2idx_dict[word])\n",
        "        else :\n",
        "          sentence_idx.append(self.word2idx_dict[\"<UNK>\"])\n",
        "\n",
        "      # 使長度一致\n",
        "      sentence_idx=self.adjust_sentence_length(sentence_idx)\n",
        "      sentence_idx_list.append(sentence_idx)\n",
        "    return torch.LongTensor(sentence_idx_list)\n",
        "    \n",
        "\n",
        "   \n",
        "  def labels_to_tensor(self,y):  \n",
        "    # 把 labels y 轉成 tensor\n",
        "    # 因在本身 Python的list 值都是文字，所以需先轉成數字\n",
        "    y = [int(label) for label in y]     \n",
        "    return torch.LongTensor(y)    \n",
        "         \n"
      ],
      "execution_count": 0,
      "outputs": []
    },
    {
      "cell_type": "markdown",
      "metadata": {
        "id": "acBvA6mX-_s1",
        "colab_type": "text"
      },
      "source": [
        "###Dataset"
      ]
    },
    {
      "cell_type": "code",
      "metadata": {
        "id": "svxC8jW9_EnZ",
        "colab_type": "code",
        "colab": {}
      },
      "source": [
        "# pytorch 的 Dataset class\n",
        "# init 後 data 就會自己分成batch, 就可以用for讀曬佢\n",
        "#一定要實作此3個class, 才能使用dataloader\n",
        "import torch\n",
        "from torch.utils import data\n",
        "\n",
        "class TwitterDataset(data.Dataset):\n",
        "  def __init__(self, X,y):\n",
        "    self.data=X\n",
        "    self.label=y\n",
        "\n",
        "  def __getitem__(self, idx):\n",
        "    if self.label is None: return self.data[idx]\n",
        "    return self.data[idx],self.label[idx]\n",
        "\n",
        "  def __len__(self):\n",
        "    return len(self.data)\n",
        "\n"
      ],
      "execution_count": 0,
      "outputs": []
    },
    {
      "cell_type": "markdown",
      "metadata": {
        "id": "J2LBLD3FDZBu",
        "colab_type": "text"
      },
      "source": [
        "###Model"
      ]
    },
    {
      "cell_type": "code",
      "metadata": {
        "id": "7-0Ag7N-Da3Z",
        "colab_type": "code",
        "colab": {}
      },
      "source": [
        "# nn.Module 是 Base class for all neural network modules\n",
        "import torch\n",
        "from torch import nn\n",
        "\n",
        "#新Class 先繼承 nn.Module\n",
        "class LSTM_Net(nn.Module):\n",
        "  # num_layers=  Deep or not Deep? 多於1層就是deep了。就是重覆的架構多疊幾個LSTM的cell?\n",
        "  # hidden_dim= 神經網路每一層的神經元數目，也是輸出的特徵數目。\n",
        "  def __init__(self,embedding_matrix,embedding_dim,hidden_dim,num_layers,dropout=0.5,fix_embedding=True ):\n",
        "    # Super 即是指使用父類的funciton,在此即initial nn.Module\n",
        "    # 另一種寫法為，super().__init__()\n",
        "    super(LSTM_Net,self).__init__()\n",
        "    # nn 有提供embedding 層的設計，下2行是把Gensim學到的embedding_matrix導入至LSTM\n",
        "    self.LSTM_embedding_matrix=torch.nn.Embedding(embedding_matrix.size(0),embedding_matrix.size(1))\n",
        "    self.LSTM_embedding_matrix.weight=torch.nn.Parameter(embedding_matrix)\n",
        "    # 是否將 LSTM_embedding fix 住，若沒有fix住，在訓練過程中，embedding 也會跟著被訓練\n",
        "    # requires_grad就是求導的產物，沒有gradient，就不會改動\n",
        "    self.LSTM_embedding_matrix.weight.requires_grad=False if fix_embedding else True\n",
        "    self.LSTM_embedding_dim=embedding_matrix.size(1)\n",
        "    self.LSTM_hidden_dim=hidden_dim\n",
        "    self.LSTM_num_layers=num_layers\n",
        "    self.LSTM_dropout=dropout\n",
        "    # batch_first= True,  即input及output data 打橫擺， shape (batch_size, seq_len, features)\n",
        "    # batch_first= False, 即input及output data 打直擺， shape (seq_len, batch_size, features)\n",
        "       \n",
        "    self.LSTM=nn.LSTM(self.LSTM_embedding_dim,self.LSTM_hidden_dim,num_layers=self.LSTM_num_layers,batch_first=True)\n",
        "    self.classifier=nn.Sequential(\n",
        "        nn.Dropout(self.LSTM_dropout),\n",
        "        nn.Linear(self.LSTM_hidden_dim,1),\n",
        "        nn.Sigmoid()\n",
        "\n",
        "        # nn.Dropout(self.LSTM_dropout),\n",
        "        # nn.Linear(self.LSTM_hidden_dim,self.LSTM_hidden_dim),\n",
        "        # nn.Tanh(),\n",
        "        # nn.Linear(self.LSTM_hidden_dim,1),\n",
        "        # nn.Sigmoid()\n",
        "    )\n",
        "\n",
        "\n",
        "\n",
        "  # 定義forward function, backward function會自己找\n",
        "  def forward(self, inputs ):\n",
        "    # 把input的words 轉回 Gensim vectors format\n",
        "    inputs=self.LSTM_embedding_matrix(inputs)\n",
        "    # None 指 nn.LSTM 中， h_0 of shape-> 設定bidirectional， c_0 of shape -> Cell預設值    \n",
        "    x,_=self.LSTM(inputs,None)\n",
        "    # 因Batch_First= True, 所以LSTM最後一層為x[:, -1, :] ，否則為x[-1,:, :]\n",
        "    # 也有另一個說法是最後一層為所有data的壓縮精華，所以跟features數目無關，應該與data數量有關\n",
        "    x=x[:, -1, :]\n",
        "    x=self.classifier(x)\n",
        "    return x"
      ],
      "execution_count": 0,
      "outputs": []
    },
    {
      "cell_type": "markdown",
      "metadata": {
        "id": "PTCosMtwRIEV",
        "colab_type": "text"
      },
      "source": [
        "###Train"
      ]
    },
    {
      "cell_type": "code",
      "metadata": {
        "id": "W4NyEo32R0ta",
        "colab_type": "code",
        "colab": {}
      },
      "source": [
        "import torch\n",
        "from torch import nn\n",
        "import torch.optim  as optim\n",
        "import matplotlib.pyplot as plt\n",
        "\n",
        "# model = LSTM_Net(embedding, embedding_dim=250, hidden_dim=150, num_layers=1, dropout=0.5, fix_embedding=fix_embedding)\n",
        "# model = model.to(device) # device為 \"cuda\"，model 使用 GPU 來訓練（餵進去的 inputs 也需要是 cuda tensor）\n",
        "\n",
        "def training(brach_size,n_epoch,lr,model_dir,train,valid, model,device):\n",
        "  # 列出所有參數\n",
        "  total=sum(p.numel() for p in model.parameters())\n",
        "  trainable = sum(p.numel() for p in model.parameters() if p.requires_grad)\n",
        "  print('\\n Start Training,parameter total:{}, trainable:{}\\n'.format(total,trainable))\n",
        "  model.train() # 將 model 的模式設為 train，這樣 dropout 和 batchNorm 便可使用   \n",
        "  criterion=nn.BCELoss() # 定義損失函數，這裡我們使用 binary cross entropy loss\n",
        "  t_dataloader_batch=len(train)\n",
        "  v_dataloader_batch=len(valid)\n",
        "  optimizer=optim.Adam(model.parameters(), lr=lr) # 將模型的參數給 optimizer，並給予適當的 learning rate\n",
        "  total_loss,total_acc,best_acc=0,0,0\n",
        "  plt_train_loss=[]\n",
        "  plt_train_acc=[]\n",
        "  plt_valid_loss=[]\n",
        "  plt_valid_acc=[]\n",
        "\n",
        "  for epoch in range(n_epoch):\n",
        "    model.train()\n",
        "    total_loss,total_acc=0,0\n",
        "    \n",
        "    # 以下做 Training\n",
        "    for i,(inputs,labels) in enumerate(train):\n",
        "      inputs=inputs.to(device,dtype=torch.long)  #轉用Cuda,以便使用GPU\n",
        "      # labels=labels.to(device,dytpe=torch.float32) #將 labels 轉成 FloatTensor，因為等等要餵進 criterion，計 entropy lost, 所以型態要是 float\n",
        "      labels = labels.to(device, dtype=torch.float)\n",
        "        \n",
        "      # labels=labels.cuda()\n",
        "      # labels=labels.float()\n",
        "      optimizer.zero_grad()  # 由於 loss.backward() 的 gradient 會累加，所以每次餵完一個 batch 後需要歸零\n",
        "      outputs=model(inputs) # 將 input 餵給模型\n",
        "      outputs=outputs.squeeze() # 去掉所有維度為1的dimension，即由[1,3]->[3],使計算Loss的 lable Tensor更一致\n",
        "      loss=criterion(outputs,labels)\n",
        "      loss.backward() # 算 loss 的 gradient\n",
        "      optimizer.step() # 更新訓練模型的參數\n",
        "      acc=acc_evaluation(outputs,labels)\n",
        "      total_acc+=(acc/batch_size)\n",
        "      total_loss=+loss.item() # nn.BCELoss()直接輸出此round此dataloader的此batch平均 loss       \n",
        "      print('[ Epoch{}: {}/{} ] loss:{:.3f} acc:{:.3f} '.format(\n",
        "            \tepoch+1, i+1, t_dataloader_batch, loss.item(), acc*100/batch_size), end='\\r')    \n",
        "    plt_train_loss.append(total_loss/t_dataloader_batch) # 記録每個epoch的資料以後畫圖使用\n",
        "    plt_train_acc.append(total_acc/t_dataloader_batch*100)\n",
        "    print('Train | Loss:{:.5f} Acc: {:.3f}'.format(total_loss/t_dataloader_batch, total_acc/t_dataloader_batch*100)) # 此epoch Training 已完\n",
        "\n",
        "\n",
        "    # 以下做 Validation\n",
        "    model.eval() # 將 model 的模式設為 eval，這樣 便不dropout 和 batchNorm\n",
        "    with torch.no_grad(): #把此 block的所有參數暫時set做  requires_grad flag to false， 速度會加快很多    \n",
        "      total_loss, total_acc = 0, 0\n",
        "      for i,(inputs,labels) in enumerate(valid):\n",
        "        inputs = inputs.to(device, dtype=torch.long) \n",
        "        labels = labels.to(device, dtype=torch.float)\n",
        "        outputs=model(inputs)\n",
        "        outputs=outputs.squeeze()\n",
        "        loss=criterion(outputs, labels)\n",
        "        acc=acc_evaluation(outputs,labels)\n",
        "        total_acc+=(acc/batch_size)\n",
        "        total_loss=+loss.item()\n",
        "      \n",
        "      plt_valid_loss.append(total_loss/v_dataloader_batch)\n",
        "      plt_valid_acc.append(total_acc/v_dataloader_batch*100)\n",
        "      print(\"Valid | Loss:{:.5f} Acc: {:.3f} \".format(total_loss/v_dataloader_batch, total_acc/v_dataloader_batch*100))\n",
        "\n",
        "      if total_acc>best_acc:\n",
        "        # 如果 validation 的結果優於之前所有的結果，就把當下的模型存下來以備之後做預測時使用                \n",
        "        best_acc=total_acc\n",
        "        torch.save(model,\"{}/ckpt.model\".format(model_dir))\n",
        "        print(\"Saving model with Valid Acc {:.3f}\".format(total_acc/v_dataloader_batch*100))\n",
        "    print('-----------------------------------------------')\n",
        "\n",
        "  plt.plot(plt_train_loss)\n",
        "  plt.plot(plt_valid_loss)\n",
        "  plt.title('Model Loss')\n",
        "  plt.ylabel('Loss')\n",
        "  plt.xlabel('epoch')\n",
        "  plt.legend(['train', 'Valid'], loc='upper left')\n",
        "  plt.show()\n",
        "\n",
        "  plt.plot(plt_train_acc)\n",
        "  plt.plot(plt_valid_acc)\n",
        "  plt.title('Model Acc')\n",
        "  plt.ylabel('Acc')\n",
        "  plt.xlabel('epoch')\n",
        "  plt.legend(['train', 'Valid'], loc='upper left')\n",
        "  plt.show()\n"
      ],
      "execution_count": 0,
      "outputs": []
    },
    {
      "cell_type": "markdown",
      "metadata": {
        "id": "c3up_EkcQokq",
        "colab_type": "text"
      },
      "source": [
        "### Predict"
      ]
    },
    {
      "cell_type": "code",
      "metadata": {
        "id": "vy7umEUeQrm1",
        "colab_type": "code",
        "colab": {}
      },
      "source": [
        "# 做預測\n",
        "import torch\n",
        "from torch import nn\n",
        "import torch.optim as optim\n",
        "\n",
        "def Predict(batch_size,test_loader,model,device):\n",
        "  model.eval()\n",
        "  ret_output=[]\n",
        "  with torch.no_grad():\n",
        "    for i, inputs in enumerate (test_loader):\n",
        "      inputs = inputs.to(device, dtype=torch.long)\n",
        "      outputs=model(inputs)\n",
        "      outputs=outputs.squeeze()\n",
        "      outputs[outputs>=0.5] = 1 # 大於等於 0.5 為正面\n",
        "      outputs[outputs<0.5] = 0 # 小於 0.5 為負面\n",
        "      ret_output+=outputs.int().tolist()\n",
        "  return ret_output\n",
        "\n",
        "\n",
        "\n"
      ],
      "execution_count": 0,
      "outputs": []
    },
    {
      "cell_type": "markdown",
      "metadata": {
        "id": "oguuCv4qQtmK",
        "colab_type": "text"
      },
      "source": [
        "###Main"
      ]
    },
    {
      "cell_type": "code",
      "metadata": {
        "id": "bO5otvDeQxJR",
        "colab_type": "code",
        "outputId": "9a3c675c-857f-4e51-a4b9-b894b739aa92",
        "colab": {
          "base_uri": "https://localhost:8080/",
          "height": 1000
        }
      },
      "source": [
        "import os\n",
        "import torch\n",
        "from torch import nn\n",
        "\n",
        "# 通過 torch.cuda.is_available() 的回傳值進行判斷是否有使用 GPU 的環境，如果有的話 device 就設為 \"cuda\"，沒有的話就設為 \"cpu\"\n",
        "device=torch.device(\"cuda\" if torch.cuda.is_available() else \"cpu\")\n",
        "# 總參數設定\n",
        "sen_len=20\n",
        "fix_embedding_Flag=True # fix embedding during training\n",
        "batch_size=200  #留意Dataloader有drop_last參數，預設為false,即不能整除時則最後batch會較少，所以建議設定成可整除 Train 及 Valid的資金料量\n",
        "epoch=10\n",
        "lr=0.001\n",
        "LSTM_hidden_dim=150\n",
        "dropout=0.5\n",
        "\n",
        "\n",
        "\n",
        "\n",
        "print (\"\\n Loading Data for model training \\n\")\n",
        "train_x,y=load_training_data(training_label,'Y')\n",
        "train_x_no_label=load_training_data(training_nolabel,'N')\n",
        "\n",
        "# 製作 embedding 及 training data map進去\n",
        "dict_mapping=Dict_mapping(train_x, sen_len, general_result_path+w2v_model)\n",
        "embedding_matrix = dict_mapping.make_dict_embedding(load=True)  # Build dictonary word embedding\n",
        "train_x = dict_mapping.sentences_word2idx()  #把train 的sentence map 入 embedding\n",
        "y = dict_mapping.labels_to_tensor(y)\n",
        "\n",
        "print (\"\\n train_x {}\\n \".format(train_x.shape) )\n",
        "\n",
        "# Initial model\n",
        "model=LSTM_Net(embedding_matrix,embedding_dim=W2v_dimension,hidden_dim=LSTM_hidden_dim,num_layers=1,dropout=dropout,fix_embedding=fix_embedding_Flag)\n",
        "model= model.to(device)  # device 為\"cuda\"的話，model 會使用GPU，但餵進去的 inputs 也需要是 cuda tensor\n",
        "# train_x.cuda()\n",
        "# y.cuda()\n",
        "\n",
        "# 把 data 分為 training data 跟 validation data\n",
        "# 雖然 train_x 的size 係([200000, 20])，但取資料時如果全取可省略直行index\n",
        "X_train, X_val, y_train, y_val = train_x[:180000], train_x[180000:], y[:180000], y[180000:]\n",
        "\n",
        "# 把 data 做成 dataset 供 dataloader 取用\n",
        "train_dataset = TwitterDataset(X=X_train, y=y_train)\n",
        "val_dataset = TwitterDataset(X=X_val, y=y_val)\n",
        "\n",
        "# 把 data 轉成 batch of tensors\n",
        "train_loader = torch.utils.data.DataLoader(dataset = train_dataset,\n",
        "                                            batch_size = batch_size,\n",
        "                                            shuffle = True,\n",
        "                                            num_workers = 8)\n",
        "\n",
        "val_loader = torch.utils.data.DataLoader(dataset = val_dataset,\n",
        "                                            batch_size = batch_size,\n",
        "                                            shuffle = False,\n",
        "                                            num_workers = 8)\n",
        "\n",
        "# 開始訓練\n",
        "training(batch_size, epoch, lr, general_result_path, train_loader, val_loader, model, device)\n",
        "\n",
        "\n"
      ],
      "execution_count": 29,
      "outputs": [
        {
          "output_type": "stream",
          "text": [
            "\n",
            " Loading Data for model training \n",
            "\n",
            "Get pre-train embedding ...\n"
          ],
          "name": "stdout"
        },
        {
          "output_type": "stream",
          "text": [
            "/usr/local/lib/python3.6/dist-packages/smart_open/smart_open_lib.py:253: UserWarning: This function is deprecated, use smart_open.open instead. See the migration notes for details: https://github.com/RaRe-Technologies/smart_open/blob/master/README.rst#migrating-to-the-new-open-function\n",
            "  'See the migration notes for details: %s' % _MIGRATION_NOTES_URL\n"
          ],
          "name": "stderr"
        },
        {
          "output_type": "stream",
          "text": [
            "get words#1:are\rget words#2:wtf\rget words#3:...\rget words#4:awww\rget words#5:thanks\rget words#6:!\rget words#7:to\rget words#8:wait\rget words#9:for\rget words#10:arrive\rget words#11:itt\rget words#12:now\rget words#13:.!\rget words#14:i\rget words#15:wish\rget words#16:could\rget words#17:go\rget words#18:and\rget words#19:see\rget words#20:when\rget words#21:she\rget words#22:comes\rget words#23:romania\rget words#24:.\rget words#25:know\rget words#26:eep\rget words#27:can\rget words#28:'\rget words#29:t\rget words#30:one\rget words#31:more\rget words#32:day\rget words#33:....\rget words#34:so\rget words#35:scared\rget words#36:feeling\rget words#37:sick\rget words#38:fuck\rget words#39:hope\rget words#40:someone\rget words#41:at\rget words#42:hr\rget words#43:help\rget words#44:it\rget words#45:would\rget words#46:be\rget words#47:or\rget words#48:karen\rget words#49:my\rget words#50:b\rget words#51:was\rget words#52:thurs\rget words#53:wanted\rget words#54:2\rget words#55:do\rget words#56:5\rget words#57:this\rget words#58:weekend\rget words#59:but\rget words#60:guess\rget words#61:close\rget words#62:enough\rget words#63:next\rget words#64:going\rget words#65:alone\rget words#66:e3\rget words#67:is\rget words#68:in\rget words#69:the\rget words#70:trending\rget words#71:topics\rget words#72:only\rget words#73:just\rget words#74:noticed\rget words#75:ive\rget words#76:been\rget words#77:tweeting\rget words#78:on\rget words#79:iphone\rget words#80:until\rget words#81:where\rget words#82:did\rget words#83:you\rget words#84:get\rget words#85:him\rget words#86:from\rget words#87:who\rget words#88:love\rget words#89:that\rget words#90:dam\rget words#91:got\rget words#92:buzzed\rget words#93:by\rget words#94:another\rget words#95:huge\rget words#96:fly\rget words#97:time\rget words#98:landed\rget words#99:head\rget words#100:not\rget words#101:impressed\rget words#102:!!!\rget words#103:ll\rget words#104:tomorrow\rget words#105:s\rget words#106:news\rget words#107:gonna\rget words#108:try\rget words#109:sleep\rget words#110:damn\rget words#111:me\rget words#112:won\rget words#113:let\rget words#114:tho\rget words#115:..\rget words#116:really\rget words#117:also\rget words#118:cuz\rget words#119:monday\rget words#120:exam\rget words#121:haven\rget words#122:studied\rget words#123:all\rget words#124:yet\rget words#125:hate\rget words#126:grr\rget words#127:check\rget words#128:vid\rget words#129:out\rget words#130:piss\rget words#131:yourself\rget words#132:laughin\rget words#133:gavin\rget words#134:!!!!!!\rget words#135:want\rget words#136:computer\rget words#137:back\rget words#138:!!!!\rget words#139:great\rget words#140:feel\rget words#141:better\rget words#142:,\rget words#143:fresh\rget words#144:air\rget words#145:nice\rget words#146:im\rget words#147:sure\rget words#148:will\rget words#149:too\rget words#150:a\rget words#151:bloody\rget words#152:wheel\rget words#153:yesterday\rget words#154:ï\rget words#155:¿\rget words#156:15\rget words#157:mins\rget words#158:parking\rget words#159:homework\rget words#160:summer\rget words#161:school\rget words#162:we\rget words#163:soon\rget words#164:though\rget words#165:no\rget words#166:right\rget words#167:.....\rget words#168:wrong\rget words#169:never\rget words#170:have\rget words#171:expected\rget words#172:says\rget words#173:sa\rget words#174:mga\rget words#175:mag\rget words#176:gf\rget words#177:bf\rget words#178:na\rget words#179:nag\rget words#180:make\rget words#181:piece\rget words#182:war\rget words#183:has\rget words#184:under\rget words#185:200\rget words#186:words\rget words#187:left\rget words#188:write\rget words#189:her\rget words#190:assignment\rget words#191:son\rget words#192:graduated\rget words#193:5th\rget words#194:grade\rget words#195:today\rget words#196:hes\rget words#197:grown\rget words#198:phone\rget words#199:screwed\rget words#200:reception\rget words#201:internet\rget words#202:ringtones\rget words#203:gone\rget words#204:contacts\rget words#205:telstra\rget words#206:think\rget words#207:paris\rget words#208:hilton\rget words#209:should\rget words#210:somewhere\rget words#211:chicago\rget words#212:actually\rget words#213:meet\rget words#214:watching\rget words#215:last\rget words#216:pirates\rget words#217:of\rget words#218:caribbean\rget words#219:tweet\rget words#220:night\rget words#221:as\rget words#222:up\rget words#223:early\rget words#224:home\rget words#225:bye\rget words#226:flat\rget words#227:getting\rget words#228:free\rget words#229:ice\rget words#230:tea\rget words#231:samples\rget words#232:oooo\rget words#233:pink\rget words#234:lemonade\rget words#235:flavour\rget words#236:watched\rget words#237:jon\rget words#238:kate\rget words#239:plus\rget words#240:8\rget words#241:they\rget words#242:re\rget words#243:separated\rget words#244:put\rget words#245:them\rget words#246:your\rget words#247:prayers\rget words#248:especially\rget words#249:kids\rget words#250:aww\rget words#251:dude\rget words#252:family\rget words#253:$\rget words#254:100\rget words#255:gift\rget words#256:card\rget words#257:uncle\rget words#258:charles\rget words#259:sorry\rget words#260:currently\rget words#261:our\rget words#262:video\rget words#263:library\rget words#264:streamed\rget words#265:within\rget words#266:united\rget words#267:states\rget words#268:two\rget words#269:days\rget words#270:road\rget words#271:happy\rget words#272:hey\rget words#273:adam\rget words#274:thanx\rget words#275:warning\rget words#276:about\rget words#277:poser\rget words#278:please\rget words#279:other\rget words#280:guys\rget words#281:its\rget words#282:again\rget words#283:hunn\rget words#284:ur\rget words#285:awsome\rget words#286:kidding\rget words#287:miley\rget words#288:beat\rget words#289:boss\rget words#290:old\rget words#291:thx\rget words#292:y\rget words#293:bday\rget words#294:calender\rget words#295:year\rget words#296:found\rget words#297:wedding\rget words#298:dress\rget words#299:m\rget words#300:fire\rget words#301:via\rget words#302:bruce\rget words#303:springsteen\rget words#304:play\rget words#305:list\rget words#306:awesome\rget words#307:el\rget words#308:very\rget words#309:pleasant\rget words#310:track\rget words#311:start\rget words#312:didn\rget words#313:buy\rget words#314:nerds\rget words#315:store\rget words#316:suddenly\rget words#317:missing\rget words#318:d\rget words#319:fun\rget words#320:used\rget words#321:twitter\rget words#322:thus\rget words#323:freakin\rget words#324:bored\rget words#325:flipside\rget words#326:completely\rget words#327:bummed\rget words#328:there\rget words#329:isn\rget words#330:sighting\rget words#331:ahaha\rget words#332:here\rget words#333:carlos\rget words#334:wasssup\rget words#335:?!\rget words#336:least\rget words#337:text\rget words#338:icky\rget words#339:need\rget words#340:hug\rget words#341:something\rget words#342:color\rget words#343:btw\rget words#344:way\rget words#345:search\rget words#346:written\rget words#347:word\rget words#348:join\rget words#349:launch\rget words#350:posting\rget words#351:special\rget words#352:offers\rget words#353:why\rget words#354:everyone\rget words#355:tutorial\rget words#356:?!?!?!\rget words#357:chris\rget words#358:liked\rget words#359:hell\rget words#360:does\rget words#361:candy\rget words#362:always\rget words#363:end\rget words#364:desk\rget words#365:discovering\rget words#366:joys\rget words#367:photobucket\rget words#368:talk\rget words#369:w\rget words#370:find\rget words#371:what\rget words#372:delay\rget words#373:well\rget words#374:u\rget words#375:he\rget words#376:hott\rget words#377:!!\rget words#378:lol\rget words#379:laying\rget words#380:bed\rget words#381:guy\rget words#382:3\rget words#383::\rget words#384:00\rget words#385:am\rget words#386:gotta\rget words#387:take\rget words#388:nasty\rget words#389:pill\rget words#390:yuck\rget words#391:how\rget words#392:split\rget words#393:testing\rget words#394:holmes\rget words#395:?\rget words#396:fucking\rget words#397:slow\rget words#398:`\rget words#399:look\rget words#400:shoes\rget words#401:takes\rget words#402:long\rget words#403:load\rget words#404:gave\rget words#405:birthday\rget words#406:present\rget words#407:slept\rget words#408:30am\rget words#409:feels\rget words#410:good\rget words#411:older\rget words#412:downloaded\rget words#413:adobe\rget words#414:photoshop\rget words#415:7\rget words#416:may\rget words#417:pics\rget words#418:remove\rget words#419:fat\rget words#420:song\rget words#421:made\rget words#422:cry\rget words#423:rib\rget words#424:man\rget words#425:flu\rget words#426:kicking\rget words#427:planning\rget words#428:needs\rget words#429:an\rget words#430:off\rget words#431:line\rget words#432:job\rget words#433:4\rget words#434:starving\rget words#435:trying\rget words#436:healthy\rget words#437:makes\rget words#438:tummy\rget words#439:rumble\rget words#440:forget\rget words#441:said\rget words#442:eye\rget words#443:jailbreaking\rget words#444:enable\rget words#445:mms\rget words#446:first\rget words#447:gen\rget words#448:iphones\rget words#449:hearing\rget words#450:depends\rget words#451:invited\rget words#452:missed\rget words#453:ppp\rget words#454:lost\rget words#455:mine\rget words#456:saturday\rget words#457:club\rget words#458:80\rget words#459:party\rget words#460:que\rget words#461:simpsons\rget words#462:misses\rget words#463:wants\rget words#464:eat\rget words#465:movie\rget words#466:dinner\rget words#467:undecided\rget words#468:between\rget words#469:applebees\rget words#470:sugar\rget words#471:cube\rget words#472:mess\rget words#473:oh\rget words#474:cool\rget words#475:saw\rget words#476:lot\rget words#477:doing\rget words#478:number\rget words#479:camps\rget words#480:then\rget words#481:disneyland\rget words#482:rumor\rget words#483:hugh\rget words#484:laurie\rget words#485:dead\rget words#486:funny\rget words#487:topic\rget words#488:anyway\rget words#489:omg\rget words#490:heard\rget words#491:ok\rget words#492:pet\rget words#493:hear\rget words#494:nurse\rget words#495:sore\rget words#496:hardly\rget words#497:walk\rget words#498:x\rget words#499:remember\rget words#500:room\rget words#501:destruction\rget words#502:uni\rget words#503:madness\rget words#504:spelt\rget words#505:meant\rget words#506:oooh\rget words#507:being\rget words#508:such\rget words#509:dumbass\rget words#510:!..\rget words#511:ve\rget words#512:morning\rget words#513:fine\rget words#514:making\rget words#515:rest\rget words#516:us\rget words#517:bit\rget words#518:jealous\rget words#519:hungry\rget words#520:stop\rget words#521:myself\rget words#522:tears\rget words#523:lousy\rget words#524:customer\rget words#525:service\rget words#526:bb\rget words#527:blinking\rget words#528:explode\rget words#529:hello\rget words#530:guilty\rget words#531:gym\rget words#532:...!\rget words#533:rock\rget words#534:anyone\rget words#535:info\rget words#536:pete\rget words#537:thank\rget words#538:much\rget words#539:idea\rget words#540:means\rget words#541:ran\rget words#542:over\rget words#543:giant\rget words#544:rabbit\rget words#545:yes\rget words#546:looking\rget words#547:forward\rget words#548:seen\rget words#549:loves\rget words#550:hannah\rget words#551:montana\rget words#552:drew\rget words#553:colored\rget words#554:beautiful\rget words#555:sunflower\rget words#556:following\rget words#557:cause\rget words#558:dont\rget words#559:myspace\rget words#560:looks\rget words#561:like\rget words#562:change\rget words#563:name\rget words#564:........\rget words#565:maybe\rget words#566:little\rget words#567:wednesday\rget words#568:ä\rget words#569:directly\rget words#570:beach\rget words#571:yeeees\rget words#572:french\rget words#573:somehow\rget words#574:failed\rget words#575:invite\rget words#576:british\rget words#577:attend\rget words#578:big\rget words#579:muffin\rget words#580:conan\rget words#581:show\rget words#582:new\rget words#583:tonight\rget words#584:host\rget words#585:playing\rget words#586:kc\rget words#587:full\rget words#588:album\rget words#589:flood\rget words#590:kid\rget words#591:mexico\rget words#592:don\rget words#593:come\rget words#594:germany\rget words#595:once\rget words#596:chuckle\rget words#597:fricking\rget words#598:gorgeous\rget words#599:babe\rget words#600:with\rget words#601:people\rget words#602:week\rget words#603:buncha\rget words#604:folks\rget words#605:their\rget words#606:grumpy\rget words#607:pants\rget words#608:ah\rget words#609:because\rget words#610:believes\rget words#611:sing\rget words#612:wishing\rget words#613:walt\rget words#614:disney\rget words#615:sell\rget words#616:still\rget words#617:tixs\rget words#618:ink\rget words#619:sale\rget words#620:ending\rget words#621:few\rget words#622:hours\rget words#623:holy\rget words#624:crap\rget words#625:ya\rget words#626:robbed\rget words#627:mannnnn\rget words#628:proud\rget words#629:team\rget words#630:blocks\rget words#631:east\rget words#632:pix\rget words#633:quad\rget words#634:near\rget words#635:park\rget words#636:waiting\rget words#637:offer\rget words#638:yaya\rget words#639:20\rget words#640:before\rget words#641:cafe\rget words#642:latte\rget words#643:world\rget words#644:premiere\rget words#645:opening\rget words#646:bookings\rget words#647:adults\rget words#648:18\rget words#649:concession\rget words#650:miss\rget words#651:car\rget words#652:run\rget words#653:into\rget words#654:bad\rget words#655:weather\rget words#656:killing\rget words#657:if\rget words#658:scary\rget words#659:heart\rget words#660:stoped\rget words#661:second\rget words#662:short\rget words#663:sized\rget words#664:turn\rget words#665:nervous\rget words#666:weird\rget words#667:adding\rget words#668:episodes\rget words#669:s1\rget words#670:dvd\rget words#671:played\rget words#672:wii\rget words#673:bully\rget words#674:complete\rget words#675:missions\rget words#676:thing\rget words#677:totally\rget words#678:eminem\rget words#679:stupid\rget words#680:wonder\rget words#681:didnt\rget words#682:haha\rget words#683:wow\rget words#684:meee\rget words#685:pleasee\rget words#686:dreamwidth\rget words#687:code\rget words#688:any\rget words#689:pets\rget words#690:sweet\rget words#691:dreams\rget words#692:wondering\rget words#693:reset\rget words#694:apple\rget words#695:logo\rget words#696:couple\rget words#697:seconds\rget words#698:had\rget words#699:restore\rget words#700:friends\rget words#701:add\rget words#702:sian\rget words#703:reached\rget words#704:work\rget words#705:sunday\rget words#706:nothing\rget words#707:ever\rget words#708:seems\rget words#709:plzzz\rget words#710:cant\rget words#711:anything\rget words#712:whole\rget words#713:screen\rget words#714:shot\rget words#715:editing\rget words#716:hi\rget words#717:cha\rget words#718:ish\rget words#719:bet\rget words#720:sarah\rget words#721:g\rget words#722:say\rget words#723:things\rget words#724:worries\rget words#725:spend\rget words#726:his\rget words#727:ass\rget words#728:niggas\rget words#729:mostly\rget words#730:vote\rget words#731:move\rget words#732:r\rget words#733:twin\rget words#734:boyz\rget words#735:yrs\rget words#736:enjoying\rget words#737:n\rget words#738:jeremy\rget words#739:aw\rget words#740:babies\rget words#741:visitors\rget words#742:sounds\rget words#743:e\rget words#744:some\rget words#745:mischief\rget words#746:tired\rget words#747:raining\rget words#748:furniture\rget words#749:boxes\rget words#750:writting\rget words#751:glad\rget words#752:sunshine\rget words#753:woo\rget words#754:hoo\rget words#755:sunbathe\rget words#756:sending\rget words#757:lots\rget words#758:losing\rget words#759:loved\rget words#760:ones\rget words#761:hard\rget words#762:argument\rget words#763:ex\rget words#764:wife\rget words#765:gettin\rget words#766:woke\rget words#767:class\rget words#768:11\rget words#769:30\rget words#770:sleeping\rget words#771:sleepy\rget words#772:starting\rget words#773:hehe\rget words#774:custom\rget words#775:faces\rget words#776:online\rget words#777:cheers\rget words#778:beers\rget words#779:caught\rget words#780:gossip\rget words#781:girl\rget words#782:17\rget words#783:serious\rget words#784:jesus\rget words#785:rad\rget words#786:message\rget words#787:having\rget words#788:coffee\rget words#789:thinking\rget words#790:hot\rget words#791:outside\rget words#792:goin\rget words#793:dane\rget words#794:cook\rget words#795:soooo\rget words#796:excited\rget words#797:sad\rget words#798:becca\rget words#799:coming\rget words#800:boy\rget words#801:hair\rget words#802:mr\rget words#803:rick\rget words#804:busy\rget words#805:food\rget words#806:network\rget words#807:plane\rget words#808:heading\rget words#809:florida\rget words#810:forcast\rget words#811:believe\rget words#812:down\rget words#813:earth\rget words#814:seem\rget words#815:celebrities\rget words#816:sooo\rget words#817:after\rget words#818:op\rget words#819:2nd\rget words#820:celebrate\rget words#821:grad\rget words#822:=\rget words#823:succes\rget words#824:wasn\rget words#825:far\rget words#826:away\rget words#827:sometimes\rget words#828:hill\rget words#829:death\rget words#830:entering\rget words#831:bailey\rget words#832:competition\rget words#833:decision\rget words#834:yeah\rget words#835:tower\rget words#836:70\rget words#837:inches\rget words#838:finally\rget words#839:peace\rget words#840:pain\rget words#841:fail\rget words#842:sigh\rget words#843:these\rget words#844:recording\rget words#845:artists\rget words#846:care\rget words#847:state\rget words#848:mississippi\rget words#849:perform\rget words#850:jobs\rget words#851:star\rget words#852:trek\rget words#853:favorite\rget words#854:pine\rget words#855:33333\rget words#856:tiger\rget words#857:amazing\rget words#858:shower\rget words#859:wash\rget words#860:leno\rget words#861:toooooo\rget words#862:season\rget words#863:later\rget words#864:honey\rget words#865:told\rget words#866:different\rget words#867:person\rget words#868:pic\rget words#869:cleaned\rget words#870:um\rget words#871:er\rget words#872:less\rget words#873:details\rget words#874:weeps\rget words#875:killed\rget words#876:terminator\rget words#877:washing\rget words#878:watch\rget words#879:gilmore\rget words#880:girls\rget words#881:yay\rget words#882:cleared\rget words#883:fourth\rget words#884:moving\rget words#885:gracious\rget words#886:board\rget words#887:frozen\rget words#888:liquids\rget words#889:blankets\rget words#890:stat\rget words#891:practical\rget words#892:test\rget words#893:tommorow\rget words#894:character\rget words#895:else\rget words#896:midnight\rget words#897:sun\rget words#898:most\rget words#899:stephanie\rget words#900:meyers\rget words#901:website\rget words#902:helps\rget words#903:lucky\rget words#904:cat\rget words#905:???\rget words#906:saddened\rget words#907:ye\rget words#908:thats\rget words#909:bring\rget words#910:joy\rget words#911:glade\rget words#912:smile\rget words#913:sweetie\rget words#914:sampling\rget words#915:delicious\rget words#916:pumpkin\rget words#917:spice\rget words#918:perv\rget words#919:voice\rget words#920:damit\rget words#921:whoa\rget words#922:naruto\rget words#923:pilot\rget words#924:chapter\rget words#925:adorable\rget words#926:hilarious\rget words#927:started\rget words#928:events\rget words#929:browser\rget words#930:instead\rget words#931:real\rget words#932:latter\rget words#933:sound\rget words#934:none\rget words#935:activities\rget words#936:working\rget words#937:maths\rget words#938:fever\rget words#939:upper\rget words#940:infection\rget words#941:remind\rget words#942:india\rget words#943:defeat\rget words#944:ate\rget words#945:thought\rget words#946:nobody\rget words#947:steal\rget words#948:alot\rget words#949:tweets\rget words#950:poems\rget words#951:rather\rget words#952:ha\rget words#953:pills\rget words#954:knock\rget words#955:interesting\rget words#956:exams\rget words#957:than\rget words#958:already\rget words#959:revision\rget words#960:zzzzzzz\rget words#961:boring\rget words#962:summerrr\rget words#963:god\rget words#964:dissertation\rget words#965:sucks\rget words#966:data\rget words#967:slower\rget words#968:waa\rget words#969:cold\rget words#970:supposed\rget words#971:vacation\rget words#972:camping\rget words#973:sitting\rget words#974:worse\rget words#975:wear\rget words#976:helped\rget words#977:open\rget words#978:charlie\rget words#979:1st\rget words#980:presents\rget words#981:english\rget words#982:dreading\rget words#983:angry\rget words#984:therapy\rget words#985:matter\rget words#986:braces\rget words#987:dropped\rget words#988:shoulder\rget words#989:neck\rget words#990:drive\rget words#991:4hrs\rget words#992:mood\rget words#993:cheer\rget words#994:oi\rget words#995:lift\rget words#996:hitch\rget words#997:hike\rget words#998:mornings\rget words#999:preparing\rget words#1000:even\rget words#1001:done\rget words#1002:replacing\rget words#1003:break\rget words#1004:pads\rget words#1005:bitch\rget words#1006:definately\rget words#1007:owned\rget words#1008:everything\rget words#1009:okay\rget words#1010:wake\rget words#1011:kitty\rget words#1012:zealand\rget words#1013:staff\rget words#1014:hide\rget words#1015:marketing\rget words#1016:till\rget words#1017:10\rget words#1018:wat\rget words#1019:give\rget words#1020:account\rget words#1021:seemed\rget words#1022:kinda\rget words#1023:eager\rget words#1024:yea\rget words#1025:gt\rget words#1026:bs\rget words#1027:coursework\rget words#1028:hour\rget words#1029:sent\rget words#1030:four\rget words#1031:lonley\rget words#1032:learn\rget words#1033:skills\rget words#1034:city\rget words#1035:future\rget words#1036:movies\rget words#1037:almost\rget words#1038:flying\rget words#1039:goodtimes\rget words#1040:anytime\rget words#1041:payment\rget words#1042:donation\rget words#1043:chance\rget words#1044:da\rget words#1045:best\rget words#1046:blow\rget words#1047:save\rget words#1048:thinks\rget words#1049:boyfriend\rget words#1050:sooooooo\rget words#1051:cum\rget words#1052:xx\rget words#1053:coool\rget words#1054:hungover\rget words#1055:fuckkk\rget words#1056:sup\rget words#1057:lookin\rget words#1058:boi\rget words#1059:ugh\rget words#1060:went\rget words#1061:months\rget words#1062:without\rget words#1063:renewing\rget words#1064:install\rget words#1065:tweetdeck\rget words#1066:twice\rget words#1067:poor\rget words#1068:mean\rget words#1069:broke\rget words#1070:mothers\rget words#1071:mom\rget words#1072:moms\rget words#1073:whoever\rget words#1074:kept\rget words#1075:jerk\rget words#1076:welcome\rget words#1077:use\rget words#1078:ctrl\rget words#1079:f\rget words#1080:dialog\rget words#1081:box\rget words#1082:searching\rget words#1083:tips\rget words#1084:profile\rget words#1085:fed\rget words#1086:niece\rget words#1087:cute\rget words#1088:soul\rget words#1089:cried\rget words#1090:read\rget words#1091:ima\rget words#1092:jus\rget words#1093:chill\rget words#1094:2nite\rget words#1095:massage\rget words#1096:relaxed\rget words#1097:tying\rget words#1098:hold\rget words#1099:em\rget words#1100:raiders\rget words#1101:high\rget words#1102:fantastic\rget words#1103:subbed\rget words#1104:manga\rget words#1105:win\rget words#1106:crosby\rget words#1107:lifting\rget words#1108:cup\rget words#1109:songs\rget words#1110:ashley\rget words#1111:bsb\rget words#1112:nc\rget words#1113:raw\rget words#1114:deal\rget words#1115:saying\rget words#1116:philly\rget words#1117:coin\rget words#1118:phrase\rget words#1119:lets\rget words#1120:set\rget words#1121:date\rget words#1122:couldnt\rget words#1123:outdoor\rget words#1124:alcohol\rget words#1125:public\rget words#1126:places\rget words#1127:couch\rget words#1128:holding\rget words#1129:baby\rget words#1130:moment\rget words#1131:grow\rget words#1132:fast\rget words#1133:jonas\rget words#1134:brothers\rget words#1135:06\rget words#1136:cupcake\rget words#1137:sack\rget words#1138:chasing\rget words#1139:whores\rget words#1140:soo\rget words#1141:superman\rget words#1142:press\rget words#1143:batch\rget words#1144:meeting\rget words#1145:clients\rget words#1146:probably\rget words#1147:correcting\rget words#1148:ict\rget words#1149:stressing\rget words#1150:srsly\rget words#1151:loads\rget words#1152:italy\rget words#1153:shopping\rget words#1154:rome\rget words#1155:sunbathing\rget words#1156:refuse\rget words#1157:sunburned\rget words#1158:failure\rget words#1159:bought\rget words#1160:drop\rget words#1161:shirt\rget words#1162:ahh\rget words#1163:congratulations\rget words#1164:couldn\rget words#1165:smiling\rget words#1166:teared\rget words#1167:wonderful\rget words#1168:sunny\rget words#1169:al\rget words#1170:course\rget words#1171:shld\rget words#1172:wardrobe\rget words#1173:punished\rget words#1174:recently\rget words#1175:female\rget words#1176:roommate\rget words#1177:years\rget words#1178:apps\rget words#1179:0\rget words#1180:eek\rget words#1181:installed\rget words#1182:steam\rget words#1183:mac\rget words#1184:counter\rget words#1185:strike\rget words#1186:half\rget words#1187:life\rget words#1188:content\rget words#1189:!!!!!\rget words#1190:boys\rget words#1191:bar\rget words#1192:san\rget words#1193:diego\rget words#1194:finals\rget words#1195:doctor\rget words#1196:cut\rget words#1197:non\rget words#1198:www\rget words#1199:vice\rget words#1200:versa\rget words#1201:generator\rget words#1202:saddd\rget words#1203:dayy\rget words#1204:point\rget words#1205:bleh\rget words#1206:doesn\rget words#1207:uploads\rget words#1208:brian\rget words#1209:lazy\rget words#1210:lool\rget words#1211:throw\rget words#1212:xoxoxo\rget words#1213:macbook\rget words#1214:deep\rget words#1215:score\rget words#1216:burns\rget words#1217:might\rget words#1218:inspired\rget words#1219:sandals\rget words#1220:bag\rget words#1221:black\rget words#1222:chain\rget words#1223:purse\rget words#1224:harsh\rget words#1225:fan\rget words#1226:since\rget words#1227:begining\rget words#1228:lamb\rget words#1229:noone\rget words#1230:messaged\rget words#1231:cheese\rget words#1232:face\rget words#1233:heaps\rget words#1234:craving\rget words#1235:many\rget words#1236:lee\rget words#1237:jeans\rget words#1238:shit"
          ],
          "name": "stdout"
        },
        {
          "output_type": "stream",
          "text": [
            "/usr/local/lib/python3.6/dist-packages/ipykernel_launcher.py:46: DeprecationWarning: Call to deprecated `__getitem__` (Method will be removed in 4.0.0, use self.wv.__getitem__() instead).\n"
          ],
          "name": "stderr"
        },
        {
          "output_type": "stream",
          "text": [
            "get words#24694:ˆâ\n",
            "Total words in embedding matrix: 24696\n",
            "\n",
            " train_x torch.Size([200000, 20])\n",
            " \n",
            "\n",
            " Start Training,parameter total:6415351, trainable:241351\n",
            "\n",
            "Train | Loss:0.00047 Acc: 73.689\n",
            "Valid | Loss:0.00487 Acc: 78.165 \n",
            "Saving model with Valid Acc 78.165\n",
            "-----------------------------------------------\n"
          ],
          "name": "stdout"
        },
        {
          "output_type": "stream",
          "text": [
            "/usr/local/lib/python3.6/dist-packages/torch/serialization.py:402: UserWarning: Couldn't retrieve source code for container of type LSTM_Net. It won't be checked for correctness upon loading.\n",
            "  \"type \" + obj.__name__ + \". It won't be checked \"\n"
          ],
          "name": "stderr"
        },
        {
          "output_type": "stream",
          "text": [
            "Train | Loss:0.00044 Acc: 78.857\n",
            "Valid | Loss:0.00451 Acc: 79.335 \n",
            "Saving model with Valid Acc 79.335\n",
            "-----------------------------------------------\n",
            "Train | Loss:0.00048 Acc: 79.876\n",
            "Valid | Loss:0.00436 Acc: 79.975 \n",
            "Saving model with Valid Acc 79.975\n",
            "-----------------------------------------------\n",
            "Train | Loss:0.00052 Acc: 80.587\n",
            "Valid | Loss:0.00415 Acc: 80.185 \n",
            "Saving model with Valid Acc 80.185\n",
            "-----------------------------------------------\n",
            "Train | Loss:0.00046 Acc: 81.267\n",
            "Valid | Loss:0.00405 Acc: 80.445 \n",
            "Saving model with Valid Acc 80.445\n",
            "-----------------------------------------------\n",
            "Train | Loss:0.00038 Acc: 81.814\n",
            "Valid | Loss:0.00392 Acc: 80.195 \n",
            "-----------------------------------------------\n",
            "Train | Loss:0.00048 Acc: 82.425\n",
            "Valid | Loss:0.00386 Acc: 80.565 \n",
            "Saving model with Valid Acc 80.565\n",
            "-----------------------------------------------\n",
            "Train | Loss:0.00041 Acc: 83.032\n",
            "Valid | Loss:0.00367 Acc: 80.630 \n",
            "Saving model with Valid Acc 80.630\n",
            "-----------------------------------------------\n",
            "Train | Loss:0.00043 Acc: 83.558\n",
            "Valid | Loss:0.00396 Acc: 80.060 \n",
            "-----------------------------------------------\n",
            "Train | Loss:0.00035 Acc: 84.303\n",
            "Valid | Loss:0.00375 Acc: 80.010 \n",
            "-----------------------------------------------\n"
          ],
          "name": "stdout"
        },
        {
          "output_type": "display_data",
          "data": {
            "image/png": "[encoded data removed]",
            "text/plain": [
              "<Figure size 432x288 with 1 Axes>"
            ]
          },
          "metadata": {
            "tags": [],
            "needs_background": "light"
          }
        },
        {
          "output_type": "display_data",
          "data": {
            "image/png": "[encoded data removed]",
            "text/plain": [
              "<Figure size 432x288 with 1 Axes>"
            ]
          },
          "metadata": {
            "tags": [],
            "needs_background": "light"
          }
        }
      ]
    },
    {
      "cell_type": "markdown",
      "metadata": {
        "id": "Qi9ZH0a5A-6V",
        "colab_type": "text"
      },
      "source": [
        "###Predict and Write to csv file"
      ]
    },
    {
      "cell_type": "code",
      "metadata": {
        "id": "Sx7BROyPBBem",
        "colab_type": "code",
        "colab": {
          "base_uri": "https://localhost:8080/",
          "height": 231
        },
        "outputId": "6e52d56b-f78c-49bc-902e-d9c80037460f"
      },
      "source": [
        "#開始做Predict\n",
        "import pandas as pd\n",
        "print(\"Loading testing data ...\")\n",
        "test_x=load_testing_data(testing_data)\n",
        "\n",
        "dict_mapping=Dict_mapping(test_x, sen_len, general_result_path+w2v_model)\n",
        "embedding_matrix = dict_mapping.make_dict_embedding(load=True)  # Build dictonary word embedding\n",
        "test_x = dict_mapping.sentences_word2idx()  #把sentence map 入 embedding\n",
        "\n",
        "test_dataset = TwitterDataset(X=test_x, y=None)\n",
        "\n",
        "test_loader = torch.utils.data.DataLoader(dataset = test_dataset,\n",
        "                                            batch_size = batch_size,\n",
        "                                            shuffle = False,\n",
        "                                            num_workers = 8)\n",
        "\n",
        "print(\"\\nLoading model...\")\n",
        "model=torch.load(\"{}/ckpt.model\".format(general_result_path))\n",
        "outputs=Predict(batch_size,test_loader,model,device)\n",
        "\n",
        "# 寫到 csv 檔案供上傳 Kaggle\n",
        "tmp = pd.DataFrame({\"id\":[str(i) for i in range(len(test_x))],\"label\":outputs})\n",
        "print(\"Saving csv ...\")\n",
        "tmp.to_csv(predict, index=False)\n",
        "print(\"Finish Predicting\")\n",
        "\n",
        "\n"
      ],
      "execution_count": 32,
      "outputs": [
        {
          "output_type": "stream",
          "text": [
            "Loading testing data ...\n",
            "Get pre-train embedding ...\n"
          ],
          "name": "stdout"
        },
        {
          "output_type": "stream",
          "text": [
            "/usr/local/lib/python3.6/dist-packages/smart_open/smart_open_lib.py:253: UserWarning: This function is deprecated, use smart_open.open instead. See the migration notes for details: https://github.com/RaRe-Technologies/smart_open/blob/master/README.rst#migrating-to-the-new-open-function\n",
            "  'See the migration notes for details: %s' % _MIGRATION_NOTES_URL\n"
          ],
          "name": "stderr"
        },
        {
          "output_type": "stream",
          "text": [
            "get words#1:are\rget words#2:wtf\rget words#3:...\rget words#4:awww\rget words#5:thanks\rget words#6:!\rget words#7:to\rget words#8:wait\rget words#9:for\rget words#10:arrive\rget words#11:itt\rget words#12:now\rget words#13:.!\rget words#14:i\rget words#15:wish\rget words#16:could\rget words#17:go\rget words#18:and\rget words#19:see\rget words#20:when\rget words#21:she\rget words#22:comes\rget words#23:romania\rget words#24:.\rget words#25:know\rget words#26:eep\rget words#27:can\rget words#28:'\rget words#29:t\rget words#30:one\rget words#31:more\rget words#32:day\rget words#33:....\rget words#34:so\rget words#35:scared\rget words#36:feeling\rget words#37:sick\rget words#38:fuck\rget words#39:hope\rget words#40:someone\rget words#41:at\rget words#42:hr\rget words#43:help\rget words#44:it\rget words#45:would\rget words#46:be\rget words#47:or\rget words#48:karen\rget words#49:my\rget words#50:b\rget words#51:was\rget words#52:thurs\rget words#53:wanted\rget words#54:2\rget words#55:do\rget words#56:5\rget words#57:this\rget words#58:weekend\rget words#59:but\rget words#60:guess\rget words#61:close\rget words#62:enough\rget words#63:next\rget words#64:going\rget words#65:alone\rget words#66:e3\rget words#67:is\rget words#68:in\rget words#69:the\rget words#70:trending\rget words#71:topics\rget words#72:only\rget words#73:just\rget words#74:noticed\rget words#75:ive\rget words#76:been\rget words#77:tweeting\rget words#78:on\rget words#79:iphone\rget words#80:until\rget words#81:where\rget words#82:did\rget words#83:you\rget words#84:get\rget words#85:him\rget words#86:from\rget words#87:who\rget words#88:love\rget words#89:that\rget words#90:dam\rget words#91:got\rget words#92:buzzed\rget words#93:by\rget words#94:another\rget words#95:huge\rget words#96:fly\rget words#97:time\rget words#98:landed\rget words#99:head\rget words#100:not\rget words#101:impressed\rget words#102:!!!\rget words#103:ll\rget words#104:tomorrow\rget words#105:s\rget words#106:news\rget words#107:gonna\rget words#108:try\rget words#109:sleep\rget words#110:damn\rget words#111:me\rget words#112:won\rget words#113:let\rget words#114:tho\rget words#115:..\rget words#116:really\rget words#117:also\rget words#118:cuz\rget words#119:monday\rget words#120:exam\rget words#121:haven\rget words#122:studied\rget words#123:all\rget words#124:yet\rget words#125:hate\rget words#126:grr\rget words#127:check\rget words#128:vid\rget words#129:out\rget words#130:piss\rget words#131:yourself\rget words#132:laughin\rget words#133:gavin\rget words#134:!!!!!!\rget words#135:want\rget words#136:computer\rget words#137:back\rget words#138:!!!!\rget words#139:great\rget words#140:feel\rget words#141:better\rget words#142:,\rget words#143:fresh\rget words#144:air\rget words#145:nice\rget words#146:im\rget words#147:sure\rget words#148:will\rget words#149:too\rget words#150:a\rget words#151:bloody\rget words#152:wheel\rget words#153:yesterday\rget words#154:ï\rget words#155:¿\rget words#156:15\rget words#157:mins\rget words#158:parking\rget words#159:homework\rget words#160:summer\rget words#161:school\rget words#162:we\rget words#163:soon\rget words#164:though\rget words#165:no\rget words#166:right\rget words#167:.....\rget words#168:wrong\rget words#169:never\rget words#170:have\rget words#171:expected\rget words#172:says\rget words#173:sa\rget words#174:mga\rget words#175:mag\rget words#176:gf\rget words#177:bf\rget words#178:na\rget words#179:nag\rget words#180:make\rget words#181:piece\rget words#182:war\rget words#183:has\rget words#184:under\rget words#185:200\rget words#186:words\rget words#187:left\rget words#188:write\rget words#189:her\rget words#190:assignment\rget words#191:son\rget words#192:graduated\rget words#193:5th\rget words#194:grade\rget words#195:today\rget words#196:hes\rget words#197:grown\rget words#198:phone\rget words#199:screwed\rget words#200:reception\rget words#201:internet\rget words#202:ringtones\rget words#203:gone\rget words#204:contacts\rget words#205:telstra\rget words#206:think\rget words#207:paris\rget words#208:hilton\rget words#209:should\rget words#210:somewhere\rget words#211:chicago\rget words#212:actually\rget words#213:meet\rget words#214:watching\rget words#215:last\rget words#216:pirates\rget words#217:of\rget words#218:caribbean\rget words#219:tweet\rget words#220:night\rget words#221:as\rget words#222:up\rget words#223:early\rget words#224:home\rget words#225:bye\rget words#226:flat\rget words#227:getting\rget words#228:free\rget words#229:ice\rget words#230:tea\rget words#231:samples\rget words#232:oooo\rget words#233:pink\rget words#234:lemonade\rget words#235:flavour\rget words#236:watched\rget words#237:jon\rget words#238:kate\rget words#239:plus\rget words#240:8\rget words#241:they\rget words#242:re\rget words#243:separated\rget words#244:put\rget words#245:them\rget words#246:your\rget words#247:prayers\rget words#248:especially\rget words#249:kids\rget words#250:aww\rget words#251:dude\rget words#252:family\rget words#253:$\rget words#254:100\rget words#255:gift\rget words#256:card\rget words#257:uncle\rget words#258:charles\rget words#259:sorry\rget words#260:currently\rget words#261:our\rget words#262:video\rget words#263:library\rget words#264:streamed\rget words#265:within\rget words#266:united\rget words#267:states\rget words#268:two\rget words#269:days\rget words#270:road\rget words#271:happy\rget words#272:hey\rget words#273:adam\rget words#274:thanx\rget words#275:warning\rget words#276:about\rget words#277:poser\rget words#278:please\rget words#279:other\rget words#280:guys\rget words#281:its\rget words#282:again\rget words#283:hunn\rget words#284:ur\rget words#285:awsome\rget words#286:kidding\rget words#287:miley\rget words#288:beat\rget words#289:boss\rget words#290:old\rget words#291:thx\rget words#292:y\rget words#293:bday\rget words#294:calender\rget words#295:year\rget words#296:found\rget words#297:wedding\rget words#298:dress\rget words#299:m\rget words#300:fire\rget words#301:via\rget words#302:bruce\rget words#303:springsteen\rget words#304:play\rget words#305:list\rget words#306:awesome\rget words#307:el\rget words#308:very\rget words#309:pleasant\rget words#310:track\rget words#311:start\rget words#312:didn\rget words#313:buy\rget words#314:nerds\rget words#315:store\rget words#316:suddenly\rget words#317:missing\rget words#318:d\rget words#319:fun\rget words#320:used\rget words#321:twitter\rget words#322:thus\rget words#323:freakin\rget words#324:bored\rget words#325:flipside\rget words#326:completely\rget words#327:bummed\rget words#328:there\rget words#329:isn\rget words#330:sighting\rget words#331:ahaha\rget words#332:here\rget words#333:carlos\rget words#334:wasssup\rget words#335:?!\rget words#336:least\rget words#337:text\rget words#338:icky\rget words#339:need\rget words#340:hug\rget words#341:something\rget words#342:color\rget words#343:btw\rget words#344:way\rget words#345:search\rget words#346:written\rget words#347:word\rget words#348:join\rget words#349:launch\rget words#350:posting\rget words#351:special\rget words#352:offers\rget words#353:why\rget words#354:everyone\rget words#355:tutorial\rget words#356:?!?!?!\rget words#357:chris\rget words#358:liked\rget words#359:hell\rget words#360:does\rget words#361:candy\rget words#362:always\rget words#363:end\rget words#364:desk\rget words#365:discovering\rget words#366:joys\rget words#367:photobucket\rget words#368:talk\rget words#369:w\rget words#370:find\rget words#371:what\rget words#372:delay\rget words#373:well\rget words#374:u\rget words#375:he\rget words#376:hott\rget words#377:!!\rget words#378:lol\rget words#379:laying\rget words#380:bed\rget words#381:guy\rget words#382:3\rget words#383::\rget words#384:00\rget words#385:am\rget words#386:gotta\rget words#387:take\rget words#388:nasty\rget words#389:pill\rget words#390:yuck\rget words#391:how\rget words#392:split\rget words#393:testing\rget words#394:holmes\rget words#395:?\rget words#396:fucking\rget words#397:slow\rget words#398:`\rget words#399:look\rget words#400:shoes\rget words#401:takes\rget words#402:long\rget words#403:load\rget words#404:gave\rget words#405:birthday\rget words#406:present\rget words#407:slept\rget words#408:30am\rget words#409:feels\rget words#410:good\rget words#411:older\rget words#412:downloaded\rget words#413:adobe\rget words#414:photoshop\rget words#415:7\rget words#416:may\rget words#417:pics\rget words#418:remove\rget words#419:fat\rget words#420:song\rget words#421:made\rget words#422:cry\rget words#423:rib\rget words#424:man\rget words#425:flu\rget words#426:kicking\rget words#427:planning\rget words#428:needs\rget words#429:an\rget words#430:off\rget words#431:line\rget words#432:job\rget words#433:4\rget words#434:starving\rget words#435:trying\rget words#436:healthy\rget words#437:makes\rget words#438:tummy\rget words#439:rumble\rget words#440:forget\rget words#441:said\rget words#442:eye\rget words#443:jailbreaking\rget words#444:enable\rget words#445:mms\rget words#446:first\rget words#447:gen\rget words#448:iphones\rget words#449:hearing\rget words#450:depends\rget words#451:invited\rget words#452:missed\rget words#453:ppp\rget words#454:lost\rget words#455:mine\rget words#456:saturday\rget words#457:club\rget words#458:80\rget words#459:party\rget words#460:que\rget words#461:simpsons\rget words#462:misses\rget words#463:wants\rget words#464:eat\rget words#465:movie\rget words#466:dinner\rget words#467:undecided\rget words#468:between\rget words#469:applebees\rget words#470:sugar\rget words#471:cube\rget words#472:mess\rget words#473:oh\rget words#474:cool\rget words#475:saw\rget words#476:lot\rget words#477:doing\rget words#478:number\rget words#479:camps\rget words#480:then\rget words#481:disneyland\rget words#482:rumor\rget words#483:hugh\rget words#484:laurie\rget words#485:dead\rget words#486:funny\rget words#487:topic\rget words#488:anyway\rget words#489:omg\rget words#490:heard\rget words#491:ok\rget words#492:pet\rget words#493:hear\rget words#494:nurse\rget words#495:sore\rget words#496:hardly\rget words#497:walk\rget words#498:x\rget words#499:remember\rget words#500:room\rget words#501:destruction\rget words#502:uni\rget words#503:madness\rget words#504:spelt\rget words#505:meant\rget words#506:oooh\rget words#507:being\rget words#508:such\rget words#509:dumbass\rget words#510:!..\rget words#511:ve\rget words#512:morning\rget words#513:fine\rget words#514:making\rget words#515:rest\rget words#516:us\rget words#517:bit\rget words#518:jealous\rget words#519:hungry\rget words#520:stop\rget words#521:myself\rget words#522:tears\rget words#523:lousy\rget words#524:customer\rget words#525:service\rget words#526:bb\rget words#527:blinking\rget words#528:explode\rget words#529:hello\rget words#530:guilty\rget words#531:gym\rget words#532:...!\rget words#533:rock\rget words#534:anyone\rget words#535:info\rget words#536:pete\rget words#537:thank\rget words#538:much\rget words#539:idea\rget words#540:means\rget words#541:ran\rget words#542:over\rget words#543:giant\rget words#544:rabbit\rget words#545:yes\rget words#546:looking\rget words#547:forward\rget words#548:seen\rget words#549:loves\rget words#550:hannah\rget words#551:montana\rget words#552:drew\rget words#553:colored\rget words#554:beautiful\rget words#555:sunflower\rget words#556:following\rget words#557:cause\rget words#558:dont\rget words#559:myspace\rget words#560:looks\rget words#561:like\rget words#562:change\rget words#563:name\rget words#564:........\rget words#565:maybe\rget words#566:little\rget words#567:wednesday\rget words#568:ä\rget words#569:directly\rget words#570:beach\rget words#571:yeeees\rget words#572:french\rget words#573:somehow\rget words#574:failed\rget words#575:invite\rget words#576:british\rget words#577:attend\rget words#578:big\rget words#579:muffin\rget words#580:conan\rget words#581:show\rget words#582:new\rget words#583:tonight\rget words#584:host\rget words#585:playing\rget words#586:kc\rget words#587:full\rget words#588:album\rget words#589:flood\rget words#590:kid\rget words#591:mexico\rget words#592:don\rget words#593:come\rget words#594:germany\rget words#595:once\rget words#596:chuckle\rget words#597:fricking\rget words#598:gorgeous\rget words#599:babe\rget words#600:with\rget words#601:people\rget words#602:week\rget words#603:buncha\rget words#604:folks\rget words#605:their\rget words#606:grumpy\rget words#607:pants\rget words#608:ah\rget words#609:because\rget words#610:believes\rget words#611:sing\rget words#612:wishing\rget words#613:walt\rget words#614:disney\rget words#615:sell\rget words#616:still\rget words#617:tixs\rget words#618:ink\rget words#619:sale\rget words#620:ending\rget words#621:few\rget words#622:hours\rget words#623:holy\rget words#624:crap\rget words#625:ya\rget words#626:robbed\rget words#627:mannnnn\rget words#628:proud\rget words#629:team\rget words#630:blocks\rget words#631:east\rget words#632:pix\rget words#633:quad\rget words#634:near\rget words#635:park\rget words#636:waiting\rget words#637:offer\rget words#638:yaya\rget words#639:20\rget words#640:before\rget words#641:cafe\rget words#642:latte\rget words#643:world\rget words#644:premiere\rget words#645:opening\rget words#646:bookings\rget words#647:adults\rget words#648:18\rget words#649:concession\rget words#650:miss\rget words#651:car\rget words#652:run\rget words#653:into\rget words#654:bad\rget words#655:weather\rget words#656:killing\rget words#657:if\rget words#658:scary\rget words#659:heart\rget words#660:stoped\rget words#661:second\rget words#662:short\rget words#663:sized\rget words#664:turn\rget words#665:nervous\rget words#666:weird\rget words#667:adding\rget words#668:episodes\rget words#669:s1\rget words#670:dvd\rget words#671:played\rget words#672:wii\rget words#673:bully\rget words#674:complete\rget words#675:missions\rget words#676:thing\rget words#677:totally\rget words#678:eminem\rget words#679:stupid\rget words#680:wonder\rget words#681:didnt\rget words#682:haha\rget words#683:wow\rget words#684:meee\rget words#685:pleasee\rget words#686:dreamwidth\rget words#687:code\rget words#688:any\rget words#689:pets\rget words#690:sweet\rget words#691:dreams\rget words#692:wondering\rget words#693:reset\rget words#694:apple\rget words#695:logo\rget words#696:couple\rget words#697:seconds\rget words#698:had\rget words#699:restore\rget words#700:friends\rget words#701:add\rget words#702:sian\rget words#703:reached\rget words#704:work\rget words#705:sunday\rget words#706:nothing\rget words#707:ever\rget words#708:seems\rget words#709:plzzz\rget words#710:cant\rget words#711:anything\rget words#712:whole\rget words#713:screen\rget words#714:shot\rget words#715:editing\rget words#716:hi\rget words#717:cha\rget words#718:ish\rget words#719:bet\rget words#720:sarah\rget words#721:g\rget words#722:say\rget words#723:things\rget words#724:worries\rget words#725:spend\rget words#726:his\rget words#727:ass\rget words#728:niggas\rget words#729:mostly\rget words#730:vote\rget words#731:move\rget words#732:r\rget words#733:twin\rget words#734:boyz\rget words#735:yrs\rget words#736:enjoying\rget words#737:n\rget words#738:jeremy\rget words#739:aw\rget words#740:babies\rget words#741:visitors\rget words#742:sounds\rget words#743:e\rget words#744:some\rget words#745:mischief\rget words#746:tired\rget words#747:raining\rget words#748:furniture\rget words#749:boxes\rget words#750:writting\rget words#751:glad\rget words#752:sunshine\rget words#753:woo\rget words#754:hoo\rget words#755:sunbathe\rget words#756:sending\rget words#757:lots\rget words#758:losing\rget words#759:loved\rget words#760:ones\rget words#761:hard\rget words#762:argument\rget words#763:ex\rget words#764:wife\rget words#765:gettin\rget words#766:woke\rget words#767:class\rget words#768:11\rget words#769:30\rget words#770:sleeping\rget words#771:sleepy\rget words#772:starting\rget words#773:hehe\rget words#774:custom\rget words#775:faces\rget words#776:online\rget words#777:cheers\rget words#778:beers\rget words#779:caught\rget words#780:gossip\rget words#781:girl\rget words#782:17\rget words#783:serious\rget words#784:jesus\rget words#785:rad\rget words#786:message\rget words#787:having\rget words#788:coffee\rget words#789:thinking\rget words#790:hot\rget words#791:outside\rget words#792:goin\rget words#793:dane\rget words#794:cook\rget words#795:soooo\rget words#796:excited\rget words#797:sad\rget words#798:becca\rget words#799:coming\rget words#800:boy\rget words#801:hair\rget words#802:mr\rget words#803:rick\rget words#804:busy\rget words#805:food\rget words#806:network\rget words#807:plane\rget words#808:heading\rget words#809:florida\rget words#810:forcast\rget words#811:believe\rget words#812:down\rget words#813:earth\rget words#814:seem\rget words#815:celebrities\rget words#816:sooo\rget words#817:after\rget words#818:op\rget words#819:2nd\rget words#820:celebrate\rget words#821:grad\rget words#822:=\rget words#823:succes\rget words#824:wasn\rget words#825:far\rget words#826:away\rget words#827:sometimes\rget words#828:hill\rget words#829:death\rget words#830:entering\rget words#831:bailey\rget words#832:competition\rget words#833:decision\rget words#834:yeah\rget words#835:tower\rget words#836:70\rget words#837:inches\rget words#838:finally\rget words#839:peace\rget words#840:pain\rget words#841:fail\rget words#842:sigh\rget words#843:these\rget words#844:recording\rget words#845:artists\rget words#846:care\rget words#847:state\rget words#848:mississippi\rget words#849:perform\rget words#850:jobs\rget words#851:star\rget words#852:trek\rget words#853:favorite\rget words#854:pine\rget words#855:33333\rget words#856:tiger\rget words#857:amazing\rget words#858:shower\rget words#859:wash\rget words#860:leno\rget words#861:toooooo\rget words#862:season\rget words#863:later\rget words#864:honey\rget words#865:told\rget words#866:different\rget words#867:person\rget words#868:pic\rget words#869:cleaned\rget words#870:um\rget words#871:er\rget words#872:less\rget words#873:details\rget words#874:weeps\rget words#875:killed\rget words#876:terminator\rget words#877:washing\rget words#878:watch\rget words#879:gilmore\rget words#880:girls\rget words#881:yay\rget words#882:cleared\rget words#883:fourth\rget words#884:moving\rget words#885:gracious\rget words#886:board\rget words#887:frozen\rget words#888:liquids\rget words#889:blankets\rget words#890:stat\rget words#891:practical\rget words#892:test\rget words#893:tommorow\rget words#894:character\rget words#895:else\rget words#896:midnight\rget words#897:sun\rget words#898:most\rget words#899:stephanie\rget words#900:meyers\rget words#901:website\rget words#902:helps\rget words#903:lucky\rget words#904:cat\rget words#905:???\rget words#906:saddened\rget words#907:ye\rget words#908:thats\rget words#909:bring\rget words#910:joy\rget words#911:glade\rget words#912:smile\rget words#913:sweetie\rget words#914:sampling\rget words#915:delicious\rget words#916:pumpkin\rget words#917:spice\rget words#918:perv\rget words#919:voice\rget words#920:damit\rget words#921:whoa\rget words#922:naruto\rget words#923:pilot\rget words#924:chapter\rget words#925:adorable\rget words#926:hilarious\rget words#927:started\rget words#928:events\rget words#929:browser\rget words#930:instead\rget words#931:real\rget words#932:latter\rget words#933:sound\rget words#934:none\rget words#935:activities\rget words#936:working\rget words#937:maths\rget words#938:fever\rget words#939:upper\rget words#940:infection\rget words#941:remind\rget words#942:india\rget words#943:defeat\rget words#944:ate\rget words#945:thought\rget words#946:nobody\rget words#947:steal\rget words#948:alot\rget words#949:tweets\rget words#950:poems\rget words#951:rather\rget words#952:ha\rget words#953:pills\rget words#954:knock\rget words#955:interesting\rget words#956:exams\rget words#957:than\rget words#958:already\rget words#959:revision\rget words#960:zzzzzzz\rget words#961:boring\rget words#962:summerrr\rget words#963:god\rget words#964:dissertation\rget words#965:sucks\rget words#966:data\rget words#967:slower\rget words#968:waa\rget words#969:cold\rget words#970:supposed\rget words#971:vacation\rget words#972:camping\rget words#973:sitting\rget words#974:worse\rget words#975:wear\rget words#976:helped\rget words#977:open\rget words#978:charlie\rget words#979:1st\rget words#980:presents\rget words#981:english\rget words#982:dreading\rget words#983:angry\rget words#984:therapy\rget words#985:matter\rget words#986:braces\rget words#987:dropped\rget words#988:shoulder\rget words#989:neck\rget words#990:drive\rget words#991:4hrs\rget words#992:mood\rget words#993:cheer\rget words#994:oi\rget words#995:lift\rget words#996:hitch\rget words#997:hike\rget words#998:mornings\rget words#999:preparing\rget words#1000:even\rget words#1001:done\rget words#1002:replacing\rget words#1003:break\rget words#1004:pads\rget words#1005:bitch\rget words#1006:definately\rget words#1007:owned\rget words#1008:everything\rget words#1009:okay\rget words#1010:wake\rget words#1011:kitty\rget words#1012:zealand\rget words#1013:staff\rget words#1014:hide\rget words#1015:marketing\rget words#1016:till\rget words#1017:10\rget words#1018:wat\rget words#1019:give\rget words#1020:account\rget words#1021:seemed\rget words#1022:kinda\rget words#1023:eager\rget words#1024:yea\rget words#1025:gt\rget words#1026:bs\rget words#1027:coursework\rget words#1028:hour\rget words#1029:sent\rget words#1030:four\rget words#1031:lonley\rget words#1032:learn\rget words#1033:skills\rget words#1034:city\rget words#1035:future\rget words#1036:movies\rget words#1037:almost\rget words#1038:flying\rget words#1039:goodtimes\rget words#1040:anytime\rget words#1041:payment\rget words#1042:donation\rget words#1043:chance\rget words#1044:da\rget words#1045:best\rget words#1046:blow\rget words#1047:save\rget words#1048:thinks\rget words#1049:boyfriend\rget words#1050:sooooooo\rget words#1051:cum\rget words#1052:xx\rget words#1053:coool\rget words#1054:hungover\rget words#1055:fuckkk\rget words#1056:sup\rget words#1057:lookin\rget words#1058:boi\rget words#1059:ugh\rget words#1060:went\rget words#1061:months\rget words#1062:without\rget words#1063:renewing\rget words#1064:install\rget words#1065:tweetdeck\rget words#1066:twice\rget words#1067:poor\rget words#1068:mean\rget words#1069:broke\rget words#1070:mothers\rget words#1071:mom\rget words#1072:moms\rget words#1073:whoever\rget words#1074:kept\rget words#1075:jerk\rget words#1076:welcome\rget words#1077:use\rget words#1078:ctrl\rget words#1079:f\rget words#1080:dialog\rget words#1081:box\rget words#1082:searching\rget words#1083:tips\rget words#1084:profile\rget words#1085:fed\rget words#1086:niece\rget words#1087:cute\rget words#1088:soul\rget words#1089:cried\rget words#1090:read\rget words#1091:ima\rget words#1092:jus\rget words#1093:chill\rget words#1094:2nite\rget words#1095:massage\rget words#1096:relaxed\rget words#1097:tying\rget words#1098:hold\rget words#1099:em\rget words#1100:raiders\rget words#1101:high\rget words#1102:fantastic\rget words#1103:subbed\rget words#1104:manga\rget words#1105:win\rget words#1106:crosby\rget words#1107:lifting\rget words#1108:cup\rget words#1109:songs\rget words#1110:ashley\rget words#1111:bsb\rget words#1112:nc\rget words#1113:raw\rget words#1114:deal\rget words#1115:saying\rget words#1116:philly\rget words#1117:coin\rget words#1118:phrase\rget words#1119:lets\rget words#1120:set\rget words#1121:date\rget words#1122:couldnt\rget words#1123:outdoor\rget words#1124:alcohol\rget words#1125:public\rget words#1126:places\rget words#1127:couch\rget words#1128:holding\rget words#1129:baby\rget words#1130:moment\rget words#1131:grow\rget words#1132:fast\rget words#1133:jonas\rget words#1134:brothers\rget words#1135:06\rget words#1136:cupcake\rget words#1137:sack\rget words#1138:chasing\rget words#1139:whores\rget words#1140:soo\rget words#1141:superman\rget words#1142:press\rget words#1143:batch\rget words#1144:meeting\rget words#1145:clients\rget words#1146:probably\rget words#1147:correcting\rget words#1148:ict\rget words#1149:stressing\rget words#1150:srsly\rget words#1151:loads\rget words#1152:italy\rget words#1153:shopping\rget words#1154:rome\rget words#1155:sunbathing\rget words#1156:refuse\rget words#1157:sunburned\rget words#1158:failure\rget words#1159:bought\rget words#1160:drop\rget words#1161:shirt\rget words#1162:ahh\rget words#1163:congratulations\rget words#1164:couldn\rget words#1165:smiling\rget words#1166:teared\rget words#1167:wonderful\rget words#1168:sunny\rget words#1169:al\rget words#1170:course\rget words#1171:shld\rget words#1172:wardrobe\rget words#1173:punished\rget words#1174:recently\rget words#1175:female\rget words#1176:roommate\rget words#1177:years\rget words#1178:apps\rget words#1179:0\rget words#1180:eek\rget words#1181:installed\rget words#1182:steam\rget words#1183:mac\rget words#1184:counter\rget words#1185:strike\rget words#1186:half\rget words#1187:life\rget words#1188:content\rget words#1189:!!!!!\rget words#1190:boys\rget words#1191:bar\rget words#1192:san\rget words#1193:diego\rget words#1194:finals\rget words#1195:doctor\rget words#1196:cut\rget words#1197:non\rget words#1198:www\rget words#1199:vice\rget words#1200:versa\rget words#1201:generator\rget words#1202:saddd\rget words#1203:dayy\rget words#1204:point\rget words#1205:bleh\rget words#1206:doesn\rget words#1207:uploads\rget words#1208:brian\rget words#1209:lazy\rget words#1210:lool\rget words#1211:throw\rget words#1212:xoxoxo\rget words#1213:macbook\rget words#1214:deep\rget words#1215:score\rget words#1216:burns\rget words#1217:might\rget words#1218:inspired\rget words#1219:sandals\rget words#1220:bag\rget words#1221:black\rget words#1222:chain\rget words#1223:purse\rget words#1224:harsh\rget words#1225:fan\rget words#1226:since\rget words#1227:begining\rget words#1228:lamb\rget words#1229:noone\rget words#1230:messaged\rget words#1231:cheese\rget words#1232:face\rget words#1233:heaps\rget words#1234:craving\rget words#1235:many\rget words#1236:lee\rget words#1237:jeans\rget words#1238:shit\rget words#1239:gud\rget words#1240:anymore\rget words#1241:snow\rget words#1242:russian\rget words#1243:spring\rget words#1244:moro\rget words#1245:lorenzo\rget words#1246:sports\rget words#1247:center\rget words#1248:fitness\rget words#1249:part\rget words#1250:puppy\rget words#1251:van\rget words#1252:soooooo\rget words#1253:lonely\rget words#1254:relationship\rget words#1255:lady\rget words#1256:walker\rget words#1257:cell\rget words#1258:soccer\rget words#1259:waz\rget words#1260:4me\rget words#1261:twittering\rget words#1262:fyi\rget words#1263:mind\rget words#1264:taken\rget words#1265:dreamt\rget words#1266:singer\rget words#1267:met\rget words#1268:times\rget words#1269:band\rget words#1270:friend\rget words#1271:amy\rget words#1272:gunna\rget words#1273:gas\rget words#1274:ready\rget words#1275:leave\rget words#1276:works\rget words#1277:hun\rget words#1278:3333333\rget words#1279:same\rget words#1280:ily\rget words#1281:lmao\rget words#1282:mode\rget words#1283:initiated\rget words#1284:ahead\rget words#1285:hopefully\rget words#1286:share\rget words#1287:mk\rget words#1288:wit\rget words#1289:pay\rget words#1290:own\rget words#1291:??\rget words#1292:sit\rget words#1293:pen\rget words#1294:weeks\rget words#1295:aren\rget words#1296:talking\rget words#1297:basically\rget words#1298:verb\rget words#1299:ð\rget words#1300:´\rget words#1301:ñ\rget words#1302:‹\rget words#1303:ðº\rget words#1304:ð½ðµ\rget words#1305:±\rget words#1306:ðµñ\rget words#1307:€\rget words#1308:‚\rget words#1309:passed\rget words#1310:2day\rget words#1311:min\rget words#1312:90\rget words#1313:%\rget words#1314:gd\rget words#1315:progress\rget words#1316:keep\rget words#1317:pass\rget words#1318:lakers\rget words#1319:laker\rget words#1320:fans\rget words#1321:jordan\rget words#1322:hahahaha\rget words#1323:laughed\rget words#1324:mmm\rget words#1325:awake\rget words#1326:mondays\rget words#1327:stayed\rget words#1328:house\rget words#1329:shucks\rget words#1330:dang\rget words#1331:live\rget words#1332:keeping\rget words#1333:touch\rget words#1334:decided\rget words#1335:tee\rget words#1336:curious\rget words#1337:hung\rget words#1338:die\rget words#1339:pc\rget words#1340:possessed\rget words#1341:typing\rget words#1342:rob\rget words#1343:pattinson\rget words#1344:wall\rget words#1345:thomas\rget words#1346:respect\rget words#1347:support\rget words#1348:sleepover\rget words#1349:chelsea\rget words#1350:cd\rget words#1351:srry\rget words#1352:born\rget words#1353:raised\rget words#1354:south\rget words#1355:detroit\rget words#1356:wings\rget words#1357:game\rget words#1358:1\rget words#1359:success\rget words#1360:lives\rget words#1361:dumb\rget words#1362:listening\rget words#1363:books\rget words#1364:podcast\rget words#1365:which\rget words#1366:discovered\rget words#1367:participate\rget words#1368:depressed\rget words#1369:rain\rget words#1370:wet\rget words#1371:streets\rget words#1372:sky\rget words#1373:download\rget words#1374:eating\rget words#1375:raid\rget words#1376:guild\rget words#1377:stuck\rget words#1378:schedule\rget words#1379:suck\rget words#1380:main\rget words#1381:through\rget words#1382:promise\rget words#1383:magic\rget words#1384:mountain\rget words#1385:enjoy\rget words#1386:heh\rget words#1387:drunk\rget words#1388:liquor\rget words#1389:hiro\rget words#1390:16\rget words#1391:realize\rget words#1392:credit\rget words#1393:late\rget words#1394:bus\rget words#1395:wouldn\rget words#1396:flight\rget words#1397:tooth\rget words#1398:gary\rget words#1399:institute\rget words#1400:capitol\rget words#1401:insist\rget words#1402:dry\rget words#1403:roasted\rget words#1404:peanuts\rget words#1405:mistake\rget words#1406:lay\rget words#1407:longest\rget words#1408:lasted\rget words#1409:hahaha\rget words#1410:ohhhh\rget words#1411:finished\rget words#1412:studying\rget words#1413:both\rget words#1414:tagalog\rget words#1415:ng\rget words#1416:nang\rget words#1417:tomorow\rget words#1418:study\rget words#1419:nap\rget words#1420:closer\rget words#1421:kings\rget words#1422:leon\rget words#1423:happen\rget words#1424:distract\rget words#1425:wowowee\rget words#1426:willie\rget words#1427:fortune\rget words#1428:randomly\rget words#1429:dream\rget words#1430:someday\rget words#1431:plan\rget words#1432:master\rget words#1433:degree\rget words#1434:abroad\rget words#1435:grilling\rget words#1436:bacon\rget words#1437:perfect\rget words#1438:every\rget words#1439:yummy\rget words#1440:sensing\rget words#1441:killer\rget words#1442:instinct\rget words#1443:caroline\rget words#1444:oregon\rget words#1445:nope\rget words#1446:false\rget words#1447:alarm\rget words#1448:call\rget words#1449:daughter\rget words#1450:law\rget words#1451:follow\rget words#1452:relaxing\rget words#1453:laundry\rget words#1454:bike\rget words#1455:12\rget words#1456:miles\rget words#1457:umm\rget words#1458:officially\rget words#1459:culture\rget words#1460:shock\rget words#1461:driver\rget words#1462:manual\rget words#1463:seriously\rget words#1464:manage\rget words#1465:extra\rget words#1466:eyes\rget words#1467:dear\rget words#1468:july\rget words#1469:trips\r"
          ],
          "name": "stdout"
        },
        {
          "output_type": "stream",
          "text": [
            "/usr/local/lib/python3.6/dist-packages/ipykernel_launcher.py:46: DeprecationWarning: Call to deprecated `__getitem__` (Method will be removed in 4.0.0, use self.wv.__getitem__() instead).\n"
          ],
          "name": "stderr"
        },
        {
          "output_type": "stream",
          "text": [
            "get words#24694:ˆâ\n",
            "Total words in embedding matrix: 24696\n",
            "\n",
            "Loading model...\n",
            "Saving csv ...\n",
            "Finish Predicting\n"
          ],
          "name": "stdout"
        }
      ]
    },
    {
      "cell_type": "code",
      "metadata": {
        "id": "QsxY7VDlBoaM",
        "colab_type": "code",
        "colab": {}
      },
      "source": [
        "# a = []\n",
        "# while(1):\n",
        "#   a.append('1')\n",
        "\n",
        "# from google.colab import files\n",
        "#!df -h\n",
        "\n",
        "import torch\n",
        "a=torch.randn(1,3)\n",
        "print (a)\n",
        "print (a.shape)\n",
        "\n",
        "\n",
        "b=a.squeeze()\n",
        "print (b)\n",
        "print ('b shape {}'.format(b.shape))"
      ],
      "execution_count": 0,
      "outputs": []
    }
  ]
}