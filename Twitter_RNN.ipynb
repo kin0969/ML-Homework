{
  "nbformat": 4,
  "nbformat_minor": 0,
  "metadata": {
    "colab": {
      "name": "Twitter RNN.ipynb",
      "provenance": [],
      "collapsed_sections": [],
      "authorship_tag": "ABX9TyPLQeTBp9V3wwxwgOPt1qyT",
      "include_colab_link": true
    },
    "kernelspec": {
      "name": "python3",
      "display_name": "Python 3"
    },
    "accelerator": "GPU"
  },
  "cells": [
    {
      "cell_type": "markdown",
      "metadata": {
        "id": "view-in-github",
        "colab_type": "text"
      },
      "source": [
        "<a href=\"https://colab.research.google.com/github/kin0969/ML-Homework/blob/master/Twitter_RNN.ipynb\" target=\"_parent\"><img src=\"https://colab.research.google.com/assets/colab-badge.svg\" alt=\"Open In Colab\"/></a>"
      ]
    },
    {
      "cell_type": "code",
      "metadata": {
        "id": "8Gyulf3c5BFG",
        "colab_type": "code",
        "outputId": "a293207f-0302-49bc-b1d8-6f2e918139a4",
        "colab": {
          "base_uri": "https://localhost:8080/",
          "height": 125
        }
      },
      "source": [
        "# Mount Google Drive for read and write\n",
        "from google.colab import drive\n",
        "drive.mount('/content/gdrive')\n",
        "training_label=\"/content/gdrive/My Drive/Colab Notebooks/ML Homework/RNN 2020/Raw Data/\"+\"training_label.txt\"\n",
        "training_nolabel=\"/content/gdrive/My Drive/Colab Notebooks/ML Homework/RNN 2020/Raw Data/\"+\"training_nolabel.txt\"\n",
        "testing_data=\"/content/gdrive/My Drive/Colab Notebooks/ML Homework/RNN 2020/Raw Data/\"+\"testing_data.txt\"\n",
        "\n",
        "predict=\"/content/gdrive/My Drive/Colab Notebooks/ML Homework/RNN 2020/Result/\"+\"predict.csv\"\n",
        "general_result_path=\"/content/gdrive/My Drive/Colab Notebooks/ML Homework/RNN 2020/Result/\""
      ],
      "execution_count": 1,
      "outputs": [
        {
          "output_type": "stream",
          "text": [
            "Go to this URL in a browser: https://accounts.google.com/o/oauth2/auth?client_id=947318989803-6bn6qk8qdgf4n4g3pfee6491hc0brc4i.apps.googleusercontent.com&redirect_uri=urn%3aietf%3awg%3aoauth%3a2.0%3aoob&response_type=code&scope=email%20https%3a%2f%2fwww.googleapis.com%2fauth%2fdocs.test%20https%3a%2f%2fwww.googleapis.com%2fauth%2fdrive%20https%3a%2f%2fwww.googleapis.com%2fauth%2fdrive.photos.readonly%20https%3a%2f%2fwww.googleapis.com%2fauth%2fpeopleapi.readonly\n",
            "\n",
            "Enter your authorization code:\n",
            "··········\n",
            "Mounted at /content/gdrive\n"
          ],
          "name": "stdout"
        }
      ]
    },
    {
      "cell_type": "markdown",
      "metadata": {
        "id": "r5Aa_EYzEOYs",
        "colab_type": "text"
      },
      "source": [
        "###Utils"
      ]
    },
    {
      "cell_type": "code",
      "metadata": {
        "id": "CW4I2MRMEZGh",
        "colab_type": "code",
        "colab": {}
      },
      "source": [
        "# Utils.py\n",
        "# General library\n",
        " \n",
        " import torch\n",
        " import numpy as np\n",
        " import pandas as pd\n",
        " import torch.optim as optim\n",
        " import torch.nn.functional as F\n",
        "\n",
        " def load_training_data(path,with_label):   \n",
        "   # 把 training 時需要的 data 讀進來\n",
        "   # 如果是 'training_label.txt'，需要讀取 label，如果是 'training_nolabel.txt'，不需要讀取 label\n",
        "   if with_label=='Y':\n",
        "     with open(path,'r') as f:\n",
        "       lines=f.readlines()       \n",
        "       lines=[line.strip('\\n').split(' ') for line in lines]\n",
        "     \n",
        "     x= [line[2:] for line in lines]\n",
        "     y= [line[0] for line in lines] \n",
        "     return x,y\n",
        "   else:\n",
        "     with open(path, 'r') as f:\n",
        "            lines = f.readlines()\n",
        "            x = [line.strip('\\n').split(' ') for line in lines]\n",
        "     return x\n",
        "\n",
        "\n",
        "def load_testing_data(path):\n",
        "    # 把 testing 時需要的 data 讀進來\n",
        "    with open(path, 'r') as f:\n",
        "        lines = f.readlines()\n",
        "        \n",
        "        # 先不要header, 再去分行符號，再用逗號分隔\n",
        "        lines_staging=[line.strip('\\n').split(\",\") for line in lines[1:]]\n",
        "        # 再把整句Raw句子拿出來 \n",
        "        lines_staging= [line[1:] for line in lines_staging]\n",
        "        # 再使用句子中的空格split出得出每個字，line係object冇split, 所以加D野上去變成String\n",
        "        lines_staging= [\"\".join(line).split(' ') for line in lines_staging]    \n",
        "\n",
        "    return lines_staging\n",
        "\n",
        "def acc_evaluation(outputs, labels):\n",
        "  outputs[outputs>=0.5]=1\n",
        "  outputs[outputs<0.5]=0\n",
        "  correct=torch.sum(torch.eq(outputs,labels)).item()\n",
        "  return correct\n",
        "\n",
        "       \n",
        "# #  x,y=load_training_data(training_label,'Y')\n",
        "#  x=load_testing_data(testing_data)\n",
        "#  print ('Testing Data',x[0:10],'\\r\\n')\n",
        "\n",
        "#  x,y=load_training_data(training_label,'Y')\n",
        "#  print ('Training',x[0:10])\n",
        "\n",
        "\n"
      ],
      "execution_count": 0,
      "outputs": []
    },
    {
      "cell_type": "markdown",
      "metadata": {
        "id": "56J-MekNOe4w",
        "colab_type": "text"
      },
      "source": [
        "### Train Word to Vector"
      ]
    },
    {
      "cell_type": "code",
      "metadata": {
        "id": "aNuxYMqlOiyR",
        "colab_type": "code",
        "colab": {
          "base_uri": "https://localhost:8080/",
          "height": 125
        },
        "outputId": "b7cb083b-4ffb-4ef4-ccfc-8e94fb51e0e0"
      },
      "source": [
        "# 這個 block 是用來訓練 word to vector 的 word embedding\n",
        "# 注意！這個 block 在訓練 word to vector 時是用 cpu，可能要花到 10 分鐘以上\n",
        "\n",
        "import os\n",
        "import numpy as np\n",
        "import pandas as pd\n",
        "import argparse\n",
        "from gensim.models import word2vec\n",
        "\n",
        "def train_word2vec(x):\n",
        "  model=word2vec.Word2Vec(x,size=250,window=5,min_count=5,workers=12,iter=10,sg=1)\n",
        "  return model\n",
        "\n",
        "\n",
        "if __name__==\"__main__\":\n",
        "  print (\"loading training data\")\n",
        "  train_x,y=load_training_data(training_label,'Y')\n",
        "  train_x_no_label=load_training_data(training_nolabel,'N')\n",
        "\n",
        "  print(\"loading testing data\")\n",
        "  test_x=load_testing_data(testing_data)\n",
        "\n",
        "  model =train_word2vec(train_x + test_x)\n",
        "\n",
        "  print (\"Saving models\")\n",
        "  model.save(general_result_path+\"w2v_all.model\")"
      ],
      "execution_count": 8,
      "outputs": [
        {
          "output_type": "stream",
          "text": [
            "loading training data\n",
            "loading testing data\n",
            "Saving models\n"
          ],
          "name": "stdout"
        },
        {
          "output_type": "stream",
          "text": [
            "/usr/local/lib/python3.6/dist-packages/smart_open/smart_open_lib.py:253: UserWarning: This function is deprecated, use smart_open.open instead. See the migration notes for details: https://github.com/RaRe-Technologies/smart_open/blob/master/README.rst#migrating-to-the-new-open-function\n",
            "  'See the migration notes for details: %s' % _MIGRATION_NOTES_URL\n"
          ],
          "name": "stderr"
        }
      ]
    }
  ]
}